{
 "cells": [
  {
   "cell_type": "markdown",
   "metadata": {},
   "source": [
    "# API 資料串接 - 以 Dcard API 實作範例\n",
    "\n",
    "* 了解 Dcard API 使用方式與回傳內容\n",
    "* 撰寫程式存取 API 且解析 JSON 格式資料\n"
   ]
  },
  {
   "cell_type": "markdown",
   "metadata": {},
   "source": [
    "## 作業目標\n",
    "\n",
    "* 請利用 API: https://www.dcard.tw/_api/forums/pet/posts?popular=true 回答下列問題：\n",
    "\n",
    "1. 這個 API 一次會回傳幾筆資料？每一筆資料包含哪些欄位？\n",
    "2. 取出每一筆資料的「標題」、「貼文時間」、「留言人數」、「按讚人數」\n",
    "3. 計算熱門/非熱門文章的「平均留言人數」與「平均按讚人數」"
   ]
  },
  {
   "cell_type": "code",
   "execution_count": 1,
   "metadata": {},
   "outputs": [
    {
     "name": "stdout",
     "output_type": "stream",
     "text": "30\n"
    }
   ],
   "source": [
    "# 1. 這個 API 一次會回傳幾筆資料？每一筆資料包含哪些欄位？\n",
    "import requests\n",
    "import json\n",
    "r = requests.get('https://www.dcard.tw/_api/forums/pet/posts?popular=true')\n",
    "response = json.loads(r.text)\n",
    "len(response)\n",
    "print(len(response))\n",
    "# 30個"
   ]
  },
  {
   "cell_type": "code",
   "execution_count": 2,
   "metadata": {},
   "outputs": [],
   "source": [
    "# 2. 取出每一筆資料的「標題」、「貼文時間」、「留言人數」、「按讚人數」\n",
    "\n",
    "count_num = 0\n",
    "likeCount_num = 0\n",
    "for response_content in response:\n",
    "    title = response_content['title']\n",
    "    time = response_content['createdAt']\n",
    "    count = response_content['commentCount']\n",
    "    count_num+=count\n",
    "    likeCount = response_content['likeCount']\n",
    "    likeCount_num+=likeCount"
   ]
  },
  {
   "cell_type": "code",
   "execution_count": 3,
   "metadata": {},
   "outputs": [
    {
     "name": "stdout",
     "output_type": "stream",
     "text": "2.2333333333333334\n6.0\n3.8666666666666667\n55.833333333333336\n"
    }
   ],
   "source": [
    "# 3. 計算熱門/非熱門文章的「平均留言人數」與「平均按讚人數」\n",
    "notPopular = requests.get('https://www.dcard.tw/_api/forums/pet/posts?popular=false')\n",
    "notPopular_response = json.loads(notPopular.text)\n",
    "notPopular_count_num = 0\n",
    "notPopular_likeCount_num = 0\n",
    "for notPopular_content in notPopular_response:\n",
    "    count = notPopular_content['commentCount']\n",
    "    notPopular_count_num += count\n",
    "    likeCount = notPopular_content['likeCount']\n",
    "    notPopular_likeCount_num += likeCount\n",
    "\n",
    "not_popular_count_average = notPopular_count_num/len(notPopular_response)\n",
    "print(not_popular_count_average)\n",
    "not_popular_likeCount_average = notPopular_likeCount_num/len(notPopular_response)\n",
    "print(not_popular_likeCount_average)\n",
    "popular_count_average = count_num/len(response)\n",
    "print(popular_count_average)\n",
    "popular_likeCount_average = likeCount_num/len(response)\n",
    "print(popular_likeCount_average)"
   ]
  },
  {
   "cell_type": "code",
   "execution_count": null,
   "metadata": {},
   "outputs": [],
   "source": []
  },
  {
   "cell_type": "code",
   "execution_count": null,
   "metadata": {},
   "outputs": [],
   "source": []
  }
 ],
 "metadata": {
  "kernelspec": {
   "display_name": "Python 3",
   "language": "python",
   "name": "python3"
  },
  "language_info": {
   "codemirror_mode": {
    "name": "ipython",
    "version": 3
   },
   "file_extension": ".py",
   "mimetype": "text/x-python",
   "name": "python",
   "nbconvert_exporter": "python",
   "pygments_lexer": "ipython3",
   "version": "3.7.3-final"
  }
 },
 "nbformat": 4,
 "nbformat_minor": 2
}