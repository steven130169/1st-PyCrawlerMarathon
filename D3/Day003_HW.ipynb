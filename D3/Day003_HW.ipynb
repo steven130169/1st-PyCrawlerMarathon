{
 "cells": [
  {
   "cell_type": "markdown",
   "metadata": {},
   "source": [
    "# Python 下載XML檔案與解析\n",
    "\n",
    "\n",
    "* 了解 xml 檔案格式與內容\n",
    "* 能夠利用套件存取 xml 格式的檔案\n"
   ]
  },
  {
   "cell_type": "markdown",
   "metadata": {},
   "source": [
    "## 作業目標\n",
    "\n",
    "* 比較一下範例檔案中的「File I/O」與「xmltodict」讀出來的內容有什麼差異\n",
    "\n",
    "* 根據範例檔案的結果：\n",
    "    1. 請問高雄市有多少地區有溫度資料？\n",
    "    2. 請取出每一個地區所記錄的第一個時間點跟溫度\n",
    "    3. 請取出第一個地區所記錄的每一個時間點跟溫度"
   ]
  },
  {
   "cell_type": "markdown",
   "metadata": {},
   "source": [
    "### 比較一下範例檔案中的「File I/O」與「xmltodict」讀出來的內容有什麼差異\n"
   ]
  },
  {
   "cell_type": "code",
   "execution_count": 1,
   "metadata": {},
   "outputs": [
    {
     "data": {
      "text/plain": "'\\nFile I/O 是產出HTML格式\\nxmltodict 是產出陣列格式\\n'"
     },
     "execution_count": 1,
     "metadata": {},
     "output_type": "execute_result"
    }
   ],
   "source": [
    "'''\n",
    "File I/O 是產出HTML格式\n",
    "xmltodict 是產出陣列格式\n",
    "'''"
   ]
  },
  {
   "cell_type": "markdown",
   "metadata": {},
   "source": [
    "### 根據範例檔案的結果：\n",
    "\n",
    "1. 請問高雄市有多少地區有溫度資料？\n",
    "2. 請取出每一個地區所記錄的第一個時間點跟溫度\n",
    "3. 請取出第一個地區所記錄的每一個時間點跟溫度"
   ]
  },
  {
   "cell_type": "code",
   "execution_count": 1,
   "metadata": {},
   "outputs": [
    {
     "name": "stdout",
     "output_type": "stream",
     "text": "startTime>2020-03-06T18:00:00+08:00</startTime>\n            <endTime>2020-03-07T06:00:00+08:00</endTime>\n            <elementValue>\n              <value>偏東風</value>\n              <measures>16方位</measures>\n            </elementValue>\n          </time>\n        </weatherElement>\n        <weatherElement>\n          <elementName>WS</elementName>\n          <description>最大風速</description>\n          <time>\n            <startTime>2020-02-29T12:00:00+08:00</startTime>\n            <endTime>2020-02-29T18:00:00+08:00</endTime>\n            <elementValue>\n              <value>0</value>\n              <measures>公尺/秒</measures>\n            </elementValue>\n            <elementValue>\n              <value>&lt;= 1</value>\n              <measures>蒲福風級</measures>\n            </elementValue>\n          </time>\n          <time>\n            <startTime>2020-02-29T18:00:00+08:00</startTime>\n            <endTime>2020-03-01T06:00:00+08:00</endTime>\n            <elementValue>\n              <value>0</value>\n              <measures>公尺/秒</measures>\n            </elementValue>\n            <elementValue>\n              <value>&lt;= 1</value>\n              <measures>蒲福風級</measures>\n            </elementValue>\n          </time>\n          <time>\n            <startTime>2020-03-01T06:00:00+08:00</startTime>\n            <endTime>2020-03-01T18:00:00+08:00</endTime>\n            <elementValue>\n              <value>2</value>\n              <measures>公尺/秒</measures>\n            </elementValue>\n            <elementValue>\n              <value>2</value>\n              <measures>蒲福風級</measures>\n            </elementValue>\n          </time>\n          <time>\n            <startTime>2020-03-01T18:00:00+08:00</startTime>\n            <endTime>2020-03-02T06:00:00+08:00</endTime>\n            <elementValue>\n              <value>1</value>\n              <measures>公尺/秒</measures>\n            </elementValue>\n            <elementValue>\n              <value>&lt;= 1</value>\n              <measures>蒲福風級</measures>\n            </elementValue>\n          </time>\n          <time>\n            <startTime>2020-03-02T06:00:00+08:00</startTime>\n            <endTime>2020-03-02T18:00:00+08:00</endTime>\n            <elementValue>\n              <value>2</value>\n              <measures>公尺/秒</measures>\n            </elementValue>\n            <elementValue>\n              <value>2</value>\n              <measures>蒲福風級</measures>\n            </elementValue>\n          </time>\n          <time>\n            <startTime>2020-03-02T18:00:00+08:00</startTime>\n            <endTime>2020-03-03T06:00:00+08:00</endTime>\n            <elementValue>\n              <value>1</value>\n              <measures>公尺/秒</measures>\n            </elementValue>\n            <elementValue>\n              <value>&lt;= 1</value>\n              <measures>蒲福風級</measures>\n            </elementValue>\n          </time>\n          <time>\n            <startTime>2020-03-03T06:00:00+08:00</startTime>\n            <endTime>2020-03-03T18:00:00+08:00</endTime>\n            <elementValue>\n              <value>1</value>\n              <measures>公尺/秒</measures>\n            </elementValue>\n            <elementValue>\n              <value>&lt;= 1</value>\n              <measures>蒲福風級</measures>\n            </elementValue>\n          </time>\n          <time>\n            <startTime>2020-03-03T18:00:00+08:00</startTime>\n            <endTime>2020-03-04T06:00:00+08:00</endTime>\n            <elementValue>\n              <value>0</value>\n              <measures>公尺/秒</measures>\n            </elementValue>\n            <elementValue>\n              <value>&lt;= 1</value>\n              <measures>蒲福風級</measures>\n            </elementValue>\n          </time>\n          <time>\n            <startTime>2020-03-04T06:00:00+08:00</startTime>\n            <endTime>2020-03-04T18:00:00+08:00</endTime>\n            <elementValue>\n              <value>1</value>\n              <measures>公尺/秒</measures>\n            </elementValue>\n            <elementValue>\n              <value>&lt;= 1</value>\n              <measures>蒲福風級</measures>\n            </elementValue>\n          </time>\n          <time>\n            <startTime>2020-03-04T18:00:00+08:00</startTime>\n            <endTime>2020-03-05T06:00:00+08:00</endTime>\n            <elementValue>\n              <value>1</value>\n              <measures>公尺/秒</measures>\n            </elementValue>\n            <elementValue>\n              <value>&lt;= 1</value>\n              <measures>蒲福風級</measures>\n            </elementValue>\n          </time>\n          <time>\n            <startTime>2020-03-05T06:00:00+08:00</startTime>\n            <endTime>2020-03-05T18:00:00+08:00</endTime>\n            <elementValue>\n              <value>1</value>\n              <measures>公尺/秒</measures>\n            </elementValue>\n            <elementValue>\n              <value>&lt;= 1</value>\n              <measures>蒲福風級</measures>\n            </elementValue>\n          </time>\n          <time>\n            <startTime>2020-03-05T18:00:00+08:00</startTime>\n            <endTime>2020-03-06T06:00:00+08:00</endTime>\n            <elementValue>\n              <value>1</value>\n              <measures>公尺/秒</measures>\n            </elementValue>\n            <elementValue>\n              <value>&lt;= 1</value>\n              <measures>蒲福風級</measures>\n            </elementValue>\n          </time>\n          <time>\n            <startTime>2020-03-06T06:00:00+08:00</startTime>\n            <endTime>2020-03-06T18:00:00+08:00</endTime>\n            <elementValue>\n              <value>1</value>\n              <measures>公尺/秒</measures>\n            </elementValue>\n            <elementValue>\n              <value>&lt;= 1</value>\n              <measures>蒲福風級</measures>\n            </elementValue>\n          </time>\n          <time>\n            <startTime>2020-03-06T18:00:00+08:00</startTime>\n            <endTime>2020-03-07T06:00:00+08:00</endTime>\n            <elementValue>\n              <value>1</value>\n              <measures>公尺/秒</measures>\n            </elementValue>\n            <elementValue>\n              <value>&lt;= 1</value>\n              <measures>蒲福風級</measures>\n            </elementValue>\n          </time>\n        </weatherElement>\n        <weatherElement>\n          <elementName>Wx</elementName>\n          <description>天氣現象</description>\n          <time>\n            <startTime>2020-02-29T12:00:00+08:00</startTime>\n            <endTime>2020-02-29T18:00:00+08:00</endTime>\n            <elementValue>\n              <value>多雲短暫陣雨</value>\n              <measures>自定義 Wx 文字</measures>\n            </elementValue>\n            <elementValue>\n              <value>08</value>\n              <measures>自定義 Wx 單位</measures>\n            </elementValue>\n          </time>\n          <time>\n            <startTime>2020-02-29T18:00:00+08:00</startTime>\n            <endTime>2020-03-01T06:00:00+08:00</endTime>\n            <elementValue>\n              <value>晴時多雲</value>\n              <measures>自定義 Wx 文字</measures>\n            </elementValue>\n            <elementValue>\n              <value>02</value>\n              <measures>自定義 Wx 單位</measures>\n            </elementValue>\n          </time>\n          <time>\n            <startTime>2020-03-01T06:00:00+08:00</startTime>\n            <endTime>2020-03-01T18:00:00+08:00</endTime>\n            <elementValue>\n              <value>多雲短暫陣雨</value>\n              <measures>自定義 Wx 文字</measures>\n            </elementValue>\n            <elementValue>\n              <value>08</value>\n              <measures>自定義 Wx 單位</measures>\n            </elementValue>\n          </time>\n          <time>\n            <startTime>2020-03-01T18:00:00+08:00</startTime>\n            <endTime>2020-03-02T06:00:00+08:00</endTime>\n            <elementValue>\n              <value>晴時多雲</value>\n              <measures>自定義 Wx 文字</measures>\n            </elementValue>\n            <elementValue>\n              <value>02</value>\n              <measures>自定義 Wx 單位</measures>\n            </elementValue>\n          </time>\n          <time>\n            <startTime>2020-03-02T06:00:00+08:00</startTime>\n            <endTime>2020-03-02T18:00:00+08:00</endTime>\n            <elementValue>\n              <value>多雲時晴</value>\n              <measures>自定義 Wx 文字</measures>\n            </elementValue>\n            <elementValue>\n              <value>03</value>\n              <measures>自定義 Wx 單位</measures>\n            </elementValue>\n          </time>\n          <time>\n            <startTime>2020-03-02T18:00:00+08:00</startTime>\n            <endTime>2020-03-03T06:00:00+08:00</endTime>\n            <elementValue>\n              <value>多雲</value>\n              <measures>自定義 Wx 文字</measures>\n            </elementValue>\n            <elementValue>\n              <value>04</value>\n              <measures>自定義 Wx 單位</measures>\n            </elementValue>\n          </time>\n          <time>\n            <startTime>2020-03-03T06:00:00+08:00</startTime>\n            <endTime>2020-03-03T18:00:00+08:00</endTime>\n            <elementValue>\n              <value>晴時多雲</value>\n              <measures>自定義 Wx 文字</measures>\n            </elementValue>\n            <elementValue>\n              <value>02</value>\n              <measures>自定義 Wx 單位</measures>\n            </elementValue>\n          </time>\n          <time>\n            <startTime>2020-03-03T18:00:00+08:00</startTime>\n            <endTime>2020-03-04T06:00:00+08:00</endTime>\n            <elementValue>\n              <value>多雲時晴</value>\n              <measures>自定義 Wx 文字</measures>\n            </elementValue>\n            <elementValue>\n              <value>03</value>\n              <measures>自定義 Wx 單位</measures>\n            </elementValue>\n          </time>\n          <time>\n            <startTime>2020-03-04T06:00:00+08:00</startTime>\n            <endTime>2020-03-04T18:00:00+08:00</endTime>\n            <elementValue>\n              <value>多雲</value>\n              <measures>自定義 Wx 文字</measures>\n            </elementValue>\n            <elementValue>\n              <value>04</value>\n              <measures>自定義 Wx 單位</measures>\n            </elementValue>\n          </time>\n          <time>\n            <startTime>2020-03-04T18:00:00+08:00</startTime>\n            <endTime>2020-03-05T06:00:00+08:00</endTime>\n            <elementValue>\n              <value>多雲短暫雨</value>\n              <measures>自定義 Wx 文字</measures>\n            </elementValue>\n            <elementValue>\n              <value>08</value>\n              <measures>自定義 Wx 單位</measures>\n            </elementValue>\n          </time>\n          <time>\n            <startTime>2020-03-05T06:00:00+08:00</startTime>\n            <endTime>2020-03-05T18:00:00+08:00</endTime>\n            <elementValue>\n              <value>多雲</value>\n              <measures>自定義 Wx 文字</measures>\n            </elementValue>\n            <elementValue>\n              <value>04</value>\n              <measures>自定義 Wx 單位</measures>\n            </elementValue>\n          </time>\n          <time>\n            <startTime>2020-03-05T18:00:00+08:00</startTime>\n            <endTime>2020-03-06T06:00:00+08:00</endTime>\n            <elementValue>\n              <value>多雲</value>\n              <measures>自定義 Wx 文字</measures>\n            </elementValue>\n            <elementValue>\n              <value>04</value>\n              <measures>自定義 Wx 單位</measures>\n            </elementValue>\n          </time>\n          <time>\n            <startTime>2020-03-06T06:00:00+08:00</startTime>\n            <endTime>2020-03-06T18:00:00+08:00</endTime>\n            <elementValue>\n              <value>多雲短暫雨</value>\n              <measures>自定義 Wx 文字</measures>\n            </elementValue>\n            <elementValue>\n              <value>08</value>\n              <measures>自定義 Wx 單位</measures>\n            </elementValue>\n          </time>\n          <time>\n            <startTime>2020-03-06T18:00:00+08:00</startTime>\n            <endTime>2020-03-07T06:00:00+08:00</endTime>\n            <elementValue>\n              <value>多雲短暫雨</value>\n              <measures>自定義 Wx 文字</measures>\n            </elementValue>\n            <elementValue>\n              <value>08</value>\n              <measures>自定義 Wx 單位</measures>\n            </elementValue>\n          </time>\n        </weatherElement>\n        <weatherElement>\n          <elementName>UVI</elementName>\n          <description>紫外獻指數</description>\n          <time>\n            <startTime>2020-02-29T12:00:00+08:00</startTime>\n            <endTime>2020-02-29T18:00:00+08:00</endTime>\n            <elementValue>\n              <value>7</value>\n              <measures>紫外線指數</measures>\n            </elementValue>\n            <elementValue>\n              <value>高量級</value>\n              <measures>曝曬級數</measures>\n            </elementValue>\n          </time>\n          <time>\n            <startTime>2020-03-01T06:00:00+08:00</startTime>\n            <endTime>2020-03-01T18:00:00+08:00</endTime>\n            <elementValue>\n              <value>8</value>\n              <measures>紫外線指數</measures>\n            </elementValue>\n            <elementValue>\n              <value>過量級</value>\n              <measures>曝曬級數</measures>\n            </elementValue>\n          </time>\n          <time>\n            <startTime>2020-03-02T06:00:00+08:00</startTime>\n            <endTime>2020-03-02T18:00:00+08:00</endTime>\n            <elementValue>\n              <value>8</value>\n              <measures>紫外線指數</measures>\n            </elementValue>\n            <elementValue>\n              <value>過量級</value>\n              <measures>曝曬級數</measures>\n            </elementValue>\n          </time>\n          <time>\n            <startTime>2020-03-03T06:00:00+08:00</startTime>\n            <endTime>2020-03-03T18:00:00+08:00</endTime>\n            <elementValue>\n              <value>8</value>\n              <measures>紫外線指數</measures>\n            </elementValue>\n            <elementValue>\n              <value>過量級</value>\n              <measures>曝曬級數</measures>\n            </elementValue>\n          </time>\n          <time>\n            <startTime>2020-03-04T06:00:00+08:00</startTime>\n            <endTime>2020-03-04T18:00:00+08:00</endTime>\n            <elementValue>\n              <value>7</value>\n              <measures>紫外線指數</measures>\n            </elementValue>\n            <elementValue>\n              <value>高量級</value>\n              <measures>曝曬級數</measures>\n            </elementValue>\n          </time>\n          <time>\n            <startTime>2020-03-05T06:00:00+08:00</startTime>\n            <endTime>2020-03-05T18:00:00+08:00</endTime>\n            <elementValue>\n              <value>6</value>\n              <measures>紫外線指數</measures>\n            </elementValue>\n            <elementValue>\n              <value>高量級</value>\n              <measures>曝曬級數</measures>\n            </elementValue>\n          </time>\n          <time>\n            <startTime>2020-03-06T06:00:00+08:00</startTime>\n            <endTime>2020-03-06T18:00:00+08:00</endTime>\n            <elementValue>\n              <value>7</value>\n              <measures>紫外線指數</measures>\n            </elementValue>\n            <elementValue>\n              <value>高量級</value>\n              <measures>曝曬級數</measures>\n            </elementValue>\n          </time>\n        </weatherElement>\n        <weatherElement>\n          <elementName>WeatherDescription</elementName>\n          <description>天氣預報綜合描述</description>\n          <time>\n            <startTime>2020-02-29T12:00:00+08:00</startTime>\n            <endTime>2020-02-29T18:00:00+08:00</endTime>\n            <elementValue>\n              <value>多雲短暫陣雨。降雨機率 60%。溫度攝氏21至26度。舒適。西南風 風速&lt;= 1級(每秒0公尺)。相對濕度75%。</value>\n              <measures>NA</measures>\n            </elementValue>\n          </time>\n          <time>\n            <startTime>2020-02-29T18:00:00+08:00</startTime>\n            <endTime>2020-03-01T06:00:00+08:00</endTime>\n            <elementValue>\n              <value>晴時多雲。降雨機率 10%。溫度攝氏15至19度。寒冷至稍有寒意。偏東風 風速&lt;= 1級(每秒0公尺)。相對濕度84%。</value>\n              <measures>NA</measures>\n            </elementValue>\n          </time>\n          <time>\n            <startTime>2020-03-01T06:00:00+08:00</startTime>\n            <endTime>2020-03-01T18:00:00+08:00</endTime>\n            <elementValue>\n              <value>多雲短暫陣雨。降雨機率 40%。溫度攝氏15至26度。寒冷至舒適。西北風 風速2級(每秒2公尺)。相對濕度81%。</value>\n              <measures>NA</measures>\n            </elementValue>\n          </time>\n          <time>\n            <startTime>2020-03-01T18:00:00+08:00</startTime>\n            <endTime>2020-03-02T06:00:00+08:00</endTime>\n            <elementValue>\n              <value>晴時多雲。降雨機率 0%。溫度攝氏15至19度。寒冷至稍有寒意。偏東風 風速&lt;= 1級(每秒1公尺)。相對濕度75%。</value>\n              <measures>NA</measures>\n            </elementValue>\n          </time>\n          <time>\n            <startTime>2020-03-02T06:00:00+08:00</startTime>\n            <endTime>2020-03-02T18:00:00+08:00</endTime>\n            <elementValue>\n              <value>多雲時晴。降雨機率 20%。溫度攝氏15至25度。寒冷至舒適。偏西風 風速2級(每秒2公尺)。相對濕度50%。</value>\n              <measures>NA</measures>\n            </elementValue>\n          </time>\n          <time>\n            <startTime>2020-03-02T18:00:00+08:00</startTime>\n            <endTime>2020-03-03T06:00:00+08:00</endTime>\n            <elementValue>\n              <value>多雲。降雨機率 10%。溫度攝氏15至19度。寒冷至稍有寒意。東南風 風速&lt;= 1級(每秒1公尺)。相對濕度86%。</value>\n              <measures>NA</measures>\n            </elementValue>\n          </time>\n          <time>\n            <startTime>2020-03-03T06:00:00+08:00</startTime>\n            <endTime>2020-03-03T18:00:00+08:00</endTime>\n            <elementValue>\n              <value>晴時多雲。溫度攝氏15至25度。寒冷至舒適。偏南風 風速&lt;= 1級(每秒1公尺)。相對濕度48%。</value>\n              <measures>NA</measures>\n            </elementValue>\n          </time>\n          <time>\n            <startTime>2020-03-03T18:00:00+08:00</startTime>\n            <endTime>2020-03-04T06:00:00+08:00</endTime>\n            <elementValue>\n              <value>多雲時晴。溫度攝氏15至19度。寒冷至稍有寒意。東北風 風速&lt;= 1級(每秒0公尺)。相對濕度86%。</value>\n              <measures>NA</measures>\n            </elementValue>\n          </time>\n          <time>\n            <startTime>2020-03-04T06:00:00+08:00</startTime>\n            <endTime>2020-03-04T18:00:00+08:00</endTime>\n            <elementValue>\n              <value>多雲。溫度攝氏15至25度。寒冷至舒適。偏西風 風速&lt;= 1級(每秒1公尺)。相對濕度56%。</value>\n              <measures>NA</measures>\n            </elementValue>\n          </time>\n          <time>\n            <startTime>2020-03-04T18:00:00+08:00</startTime>\n            <endTime>2020-03-05T06:00:00+08:00</endTime>\n            <elementValue>\n              <value>多雲短暫雨。溫度攝氏17至20度。稍有寒意。偏南風 風速&lt;= 1級(每秒1公尺)。相對濕度84%。</value>\n              <measures>NA</measures>\n            </elementValue>\n          </time>\n          <time>\n            <startTime>2020-03-05T06:00:00+08:00</startTime>\n            <endTime>2020-03-05T18:00:00+08:00</endTime>\n            <elementValue>\n              <value>多雲。溫度攝氏16至22度。稍有寒意至舒適。偏西風 風速&lt;= 1級(每秒1公尺)。相對濕度84%。</value>\n              <measures>NA</measures>\n            </elementValue>\n          </time>\n          <time>\n            <startTime>2020-03-05T18:00:00+08:00</startTime>\n            <endTime>2020-03-06T06:00:00+08:00</endTime>\n            <elementValue>\n              <value>多雲。溫度攝氏14至17度。寒冷至稍有寒意。東南風 風速&lt;= 1級(每秒1公尺)。相對濕度95%。</value>\n              <measures>NA</measures>\n            </elementValue>\n          </time>\n          <time>\n            <startTime>2020-03-06T06:00:00+08:00</startTime>\n            <endTime>2020-03-06T18:00:00+08:00</endTime>\n            <elementValue>\n              <value>多雲短暫雨。溫度攝氏14至23度。寒冷至舒適。偏西風 風速&lt;= 1級(每秒1公尺)。相對濕度81%。</value>\n              <measures>NA</measures>\n            </elementValue>\n          </time>\n          <time>\n            <startTime>2020-03-06T18:00:00+08:00</startTime>\n            <endTime>2020-03-07T06:00:00+08:00</endTime>\n            <elementValue>\n              <value>多雲短暫雨。溫度攝氏14至17度。寒冷至稍有寒意。偏東風 風速&lt;= 1級(每秒1公尺)。相對濕度87%。</value>\n              <measures>NA</measures>\n            </elementValue>\n          </time>\n        </weatherElement>\n      </location>\n    </locations>\n  </dataset>\n</cwbopendata>\n\n"
    },
    {
     "data": {
      "text/plain": "'\\n\\n'"
     },
     "execution_count": 1,
     "metadata": {},
     "output_type": "execute_result"
    }
   ],
   "source": [
    "# 1. 請問高雄市有多少地區有溫度資料？\n",
    "import xmltodict\n",
    "fh = open(\"./data/64_Weekday_CH.xml\", \"r\",encoding=\"utf-8\")\n",
    "xml = fh.read()\n",
    "d = dict(xmltodict.parse(xml))\n",
    "print(d)\n",
    "d[]\n",
    "fh.close()\n",
    "print(xml)\n",
    "\n",
    "'''\n",
    "\n",
    "'''"
   ]
  },
  {
   "cell_type": "code",
   "execution_count": null,
   "metadata": {},
   "outputs": [],
   "source": [
    "# 2. 請取出每一個地區所記錄的第一個時間點跟溫度\n",
    "\n",
    "'''\n",
    "Your Code\n",
    "'''"
   ]
  },
  {
   "cell_type": "code",
   "execution_count": null,
   "metadata": {},
   "outputs": [],
   "source": [
    "# 3. 請取出第一個地區所記錄的每一個時間點跟溫度\n",
    "\n",
    "'''\n",
    "Your Code\n",
    "'''"
   ]
  },
  {
   "cell_type": "code",
   "execution_count": null,
   "metadata": {},
   "outputs": [],
   "source": []
  }
 ],
 "metadata": {
  "kernelspec": {
   "display_name": "Python 3",
   "language": "python",
   "name": "python3"
  },
  "language_info": {
   "codemirror_mode": {
    "name": "ipython",
    "version": 3
   },
   "file_extension": ".py",
   "mimetype": "text/x-python",
   "name": "python",
   "nbconvert_exporter": "python",
   "pygments_lexer": "ipython3",
   "version": "3.7.3-final"
  }
 },
 "nbformat": 4,
 "nbformat_minor": 2
}