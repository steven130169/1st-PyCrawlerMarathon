{
 "cells": [
  {
   "cell_type": "markdown",
   "metadata": {},
   "source": [
    "# Python 下載XML檔案與解析\n",
    "\n",
    "\n",
    "* 了解 xml 檔案格式與內容\n",
    "* 能夠利用套件存取 xml 格式的檔案\n"
   ]
  },
  {
   "cell_type": "markdown",
   "metadata": {},
   "source": [
    "## 存取 XML 的三種套件"
   ]
  },
  {
   "cell_type": "code",
   "execution_count": 4,
   "metadata": {},
   "outputs": [
    {
     "name": "stdout",
     "output_type": "stream",
     "text": "爬蟲馬拉松123\n01 資料來源與存取\n02 靜態網頁爬蟲\n03 動態網頁爬蟲\n"
    }
   ],
   "source": [
    "import xml.dom.minidom\n",
    "\n",
    "# 存取檔案\n",
    "doc = xml.dom.minidom.parse(\"./sample.xml\")\n",
    "\n",
    "# 存取我們的資訊\n",
    "print(doc.getElementsByTagName(\"Title\")[0].firstChild.nodeValue)\n",
    "\n",
    "# 用迴圈存取我們的資訊\n",
    "chapters = doc.getElementsByTagName(\"Chapter\")\n",
    "for chapter in chapters:\n",
    "    print (chapter.getAttribute('name'), chapter.firstChild.nodeValue)"
   ]
  },
  {
   "cell_type": "code",
   "execution_count": 5,
   "metadata": {},
   "outputs": [
    {
     "name": "stdout",
     "output_type": "stream",
     "text": "爬蟲馬拉松123\n01 資料來源與存取\n02 靜態網頁爬蟲\n03 動態網頁爬蟲\n"
    }
   ],
   "source": [
    "import xml.etree.ElementTree as ET \n",
    "\n",
    "# 存取檔案\n",
    "tree = ET.parse('./sample.xml') \n",
    "root = tree.getroot()\n",
    "\n",
    "# 存取我們的資訊\n",
    "print(root[0].text)\n",
    "\n",
    "# 用迴圈存取我們的資訊\n",
    "chapters = root[2]\n",
    "for chapter in chapters:\n",
    "    print (chapter.attrib['name'], chapter.text)"
   ]
  },
  {
   "cell_type": "code",
   "execution_count": 1,
   "metadata": {},
   "outputs": [
    {
     "ename": "UnicodeDecodeError",
     "evalue": "'cp950' codec can't decode byte 0xe7 in position 60: illegal multibyte sequence",
     "output_type": "error",
     "traceback": [
      "\u001b[1;31m---------------------------------------------------------------------------\u001b[0m",
      "\u001b[1;31mUnicodeDecodeError\u001b[0m                        Traceback (most recent call last)",
      "\u001b[1;32m<ipython-input-1-2e1ee36ae978>\u001b[0m in \u001b[0;36m<module>\u001b[1;34m\u001b[0m\n\u001b[0;32m      5\u001b[0m \u001b[1;33m\u001b[0m\u001b[0m\n\u001b[0;32m      6\u001b[0m \u001b[1;32mwith\u001b[0m \u001b[0mopen\u001b[0m\u001b[1;33m(\u001b[0m\u001b[1;34m'./sample.xml'\u001b[0m\u001b[1;33m)\u001b[0m \u001b[1;32mas\u001b[0m \u001b[0mfd\u001b[0m\u001b[1;33m:\u001b[0m\u001b[1;33m\u001b[0m\u001b[1;33m\u001b[0m\u001b[0m\n\u001b[1;32m----> 7\u001b[1;33m     \u001b[0mdoc\u001b[0m \u001b[1;33m=\u001b[0m \u001b[0mdict\u001b[0m\u001b[1;33m(\u001b[0m\u001b[0mxmltodict\u001b[0m\u001b[1;33m.\u001b[0m\u001b[0mparse\u001b[0m\u001b[1;33m(\u001b[0m\u001b[0mfd\u001b[0m\u001b[1;33m.\u001b[0m\u001b[0mread\u001b[0m\u001b[1;33m(\u001b[0m\u001b[1;33m)\u001b[0m\u001b[1;33m)\u001b[0m\u001b[1;33m)\u001b[0m\u001b[1;33m\u001b[0m\u001b[1;33m\u001b[0m\u001b[0m\n\u001b[0m\u001b[0;32m      8\u001b[0m \u001b[1;33m\u001b[0m\u001b[0m\n\u001b[0;32m      9\u001b[0m \u001b[1;31m# 存取我們的資訊\u001b[0m\u001b[1;33m\u001b[0m\u001b[1;33m\u001b[0m\u001b[1;33m\u001b[0m\u001b[0m\n",
      "\u001b[1;31mUnicodeDecodeError\u001b[0m: 'cp950' codec can't decode byte 0xe7 in position 60: illegal multibyte sequence"
     ]
    }
   ],
   "source": [
    "# -*- coding: utf-8 -*-\n",
    "import xmltodict\n",
    "\n",
    "# 存取檔案\n",
    "\n",
    "with open('./sample.xml') as fd:\n",
    "    doc = dict(xmltodict.parse(fd.read()))\n",
    "\n",
    "# 存取我們的資訊\n",
    "print(doc['CUPOY']['Title'])\n",
    "\n",
    "# 用迴圈存取我們的資訊\n",
    "chapters = doc['CUPOY']['Chapters']['Chapter']\n",
    "for chapter in chapters:\n",
    "    print (chapter['@name'], chapter['#text'])"
   ]
  },
  {
   "cell_type": "markdown",
   "metadata": {},
   "source": [
    "## 下載檔案"
   ]
  },
  {
   "cell_type": "code",
   "execution_count": 2,
   "metadata": {},
   "outputs": [],
   "source": [
    "# 下載檔案\n",
    "import urllib.request\n",
    "import zipfile\n",
    "\n",
    "res = \"http://opendata.cwb.gov.tw/govdownload?dataid=F-D0047-093&authorizationkey=rdec-key-123-45678-011121314\"\n",
    "urllib.request.urlretrieve(res, \"./data/example.zip\")\n",
    "f = zipfile.ZipFile('./data/example.zip')\n",
    "f.extractall('./data')\n"
   ]
  },
  {
   "cell_type": "code",
   "execution_count": 17,
   "metadata": {},
   "outputs": [
    {
     "name": "stdout",
     "output_type": "stream",
     "text": "09007_72hr_CH.xml\n09007_72hr_EN.xml\n09007_Week24_CH.xml\n09007_Week24_EN.xml\n09007_Weekday_CH.xml\n09007_Weekday_EN.xml\n09020_72hr_CH.xml\n09020_72hr_EN.xml\n09020_Week24_CH.xml\n09020_Week24_EN.xml\n09020_Weekday_CH.xml\n09020_Weekday_EN.xml\n10002_72hr_CH.xml\n10002_72hr_EN.xml\n10002_Week24_CH.xml\n10002_Week24_EN.xml\n10002_Weekday_CH.xml\n10002_Weekday_EN.xml\n10004_72hr_CH.xml\n10004_72hr_EN.xml\n10004_Week24_CH.xml\n10004_Week24_EN.xml\n10004_Weekday_CH.xml\n10004_Weekday_EN.xml\n10005_72hr_CH.xml\n10005_72hr_EN.xml\n10005_Week24_CH.xml\n10005_Week24_EN.xml\n10005_Weekday_CH.xml\n10005_Weekday_EN.xml\n10007_72hr_CH.xml\n10007_72hr_EN.xml\n10007_Week24_CH.xml\n10007_Week24_EN.xml\n10007_Weekday_CH.xml\n10007_Weekday_EN.xml\n10008_72hr_CH.xml\n10008_72hr_EN.xml\n10008_Week24_CH.xml\n10008_Week24_EN.xml\n10008_Weekday_CH.xml\n10008_Weekday_EN.xml\n10009_72hr_CH.xml\n10009_72hr_EN.xml\n10009_Week24_CH.xml\n10009_Week24_EN.xml\n10009_Weekday_CH.xml\n10009_Weekday_EN.xml\n10010_72hr_CH.xml\n10010_72hr_EN.xml\n10010_Week24_CH.xml\n10010_Week24_EN.xml\n10010_Weekday_CH.xml\n10010_Weekday_EN.xml\n10013_72hr_CH.xml\n10013_72hr_EN.xml\n10013_Week24_CH.xml\n10013_Week24_EN.xml\n10013_Weekday_CH.xml\n10013_Weekday_EN.xml\n10014_72hr_CH.xml\n10014_72hr_EN.xml\n10014_Week24_CH.xml\n10014_Week24_EN.xml\n10014_Weekday_CH.xml\n10014_Weekday_EN.xml\n10015_72hr_CH.xml\n10015_72hr_EN.xml\n10015_Week24_CH.xml\n10015_Week24_EN.xml\n10015_Weekday_CH.xml\n10015_Weekday_EN.xml\n10016_72hr_CH.xml\n10016_72hr_EN.xml\n10016_Week24_CH.xml\n10016_Week24_EN.xml\n10016_Weekday_CH.xml\n10016_Weekday_EN.xml\n10017_72hr_CH.xml\n10017_72hr_EN.xml\n10017_Week24_CH.xml\n10017_Week24_EN.xml\n10017_Weekday_CH.xml\n10017_Weekday_EN.xml\n10018_72hr_CH.xml\n10018_72hr_EN.xml\n10018_Week24_CH.xml\n10018_Week24_EN.xml\n10018_Weekday_CH.xml\n10018_Weekday_EN.xml\n10020_72hr_CH.xml\n10020_72hr_EN.xml\n10020_Week24_CH.xml\n10020_Week24_EN.xml\n10020_Weekday_CH.xml\n10020_Weekday_EN.xml\n63_72hr_CH.xml\n63_72hr_EN.xml\n63_Week24_CH.xml\n63_Week24_EN.xml\n63_Weekday_CH.xml\n63_Weekday_EN.xml\n64_72hr_CH.xml\n64_72hr_EN.xml\n64_Week24_CH.xml\n64_Week24_EN.xml\n64_Weekday_CH.xml\n64_Weekday_EN.xml\n65_72hr_CH.xml\n65_72hr_EN.xml\n65_Week24_CH.xml\n65_Week24_EN.xml\n65_Weekday_CH.xml\n65_Weekday_EN.xml\n66_72hr_CH.xml\n66_72hr_EN.xml\n66_Week24_CH.xml\n66_Week24_EN.xml\n66_Weekday_CH.xml\n66_Weekday_EN.xml\n67_72hr_CH.xml\n67_72hr_EN.xml\n67_Week24_CH.xml\n67_Week24_EN.xml\n67_Weekday_CH.xml\n67_Weekday_EN.xml\n68_72hr_CH.xml\n68_72hr_EN.xml\n68_Week24_CH.xml\n68_Week24_EN.xml\n68_Weekday_CH.xml\n68_Weekday_EN.xml\nexample.zip\nTAIWAN_72hr_CH.xml\nTAIWAN_72hr_EN.xml\nTAIWAN_Week24_CH.xml\nTAIWAN_Week24_EN.xml\nTAIWAN_Weekday_CH.xml\nTAIWAN_Weekday_EN.xml\n"
    }
   ],
   "source": [
    "import os, sys\n",
    "\n",
    "# 打开文件\n",
    "dirs = os.listdir( './data' )\n",
    "\n",
    "# 输出所有文件和文件夹\n",
    "for file in dirs:\n",
    "    print(file)"
   ]
  },
  {
   "cell_type": "markdown",
   "metadata": {},
   "source": [
    "## File I/O\n"
   ]
  },
  {
   "cell_type": "code",
   "execution_count": 3,
   "metadata": {},
   "outputs": [
    {
     "name": "stdout",
     "output_type": "stream",
     "text": "\n              <value>24</value>\n              <measures>攝氏度</measures>\n            </elementValue>\n          </time>\n          <time>\n            <dataTime>2020-03-02T15:00:00+08:00</dataTime>\n            <elementValue>\n              <value>24</value>\n              <measures>攝氏度</measures>\n            </elementValue>\n          </time>\n          <time>\n            <dataTime>2020-03-02T18:00:00+08:00</dataTime>\n            <elementValue>\n              <value>19</value>\n              <measures>攝氏度</measures>\n            </elementValue>\n          </time>\n          <time>\n            <dataTime>2020-03-02T21:00:00+08:00</dataTime>\n            <elementValue>\n              <value>17</value>\n              <measures>攝氏度</measures>\n            </elementValue>\n          </time>\n          <time>\n            <dataTime>2020-03-03T00:00:00+08:00</dataTime>\n            <elementValue>\n              <value>17</value>\n              <measures>攝氏度</measures>\n            </elementValue>\n          </time>\n          <time>\n            <dataTime>2020-03-03T03:00:00+08:00</dataTime>\n            <elementValue>\n              <value>16</value>\n              <measures>攝氏度</measures>\n            </elementValue>\n          </time>\n          <time>\n            <dataTime>2020-03-03T06:00:00+08:00</dataTime>\n            <elementValue>\n              <value>15</value>\n              <measures>攝氏度</measures>\n            </elementValue>\n          </time>\n          <time>\n            <dataTime>2020-03-03T09:00:00+08:00</dataTime>\n            <elementValue>\n              <value>21</value>\n              <measures>攝氏度</measures>\n            </elementValue>\n          </time>\n        </weatherElement>\n        <weatherElement>\n          <elementName>Wx</elementName>\n          <description>天氣現象</description>\n          <time>\n            <startTime>2020-02-29T12:00:00+08:00</startTime>\n            <endTime>2020-02-29T15:00:00+08:00</endTime>\n            <elementValue>\n              <value>多雲</value>\n              <measures>自定義 Wx 文字</measures>\n            </elementValue>\n            <elementValue>\n              <value>04</value>\n              <measures>自定義 Wx 單位</measures>\n            </elementValue>\n          </time>\n          <time>\n            <startTime>2020-02-29T15:00:00+08:00</startTime>\n            <endTime>2020-02-29T18:00:00+08:00</endTime>\n            <elementValue>\n              <value>短暫陣雨</value>\n              <measures>自定義 Wx 文字</measures>\n            </elementValue>\n            <elementValue>\n              <value>08</value>\n              <measures>自定義 Wx 單位</measures>\n            </elementValue>\n          </time>\n          <time>\n            <startTime>2020-02-29T18:00:00+08:00</startTime>\n            <endTime>2020-02-29T21:00:00+08:00</endTime>\n            <elementValue>\n              <value>晴</value>\n              <measures>自定義 Wx 文字</measures>\n            </elementValue>\n            <elementValue>\n              <value>01</value>\n              <measures>自定義 Wx 單位</measures>\n            </elementValue>\n          </time>\n          <time>\n            <startTime>2020-02-29T21:00:00+08:00</startTime>\n            <endTime>2020-03-01T00:00:00+08:00</endTime>\n            <elementValue>\n              <value>晴</value>\n              <measures>自定義 Wx 文字</measures>\n            </elementValue>\n            <elementValue>\n              <value>01</value>\n              <measures>自定義 Wx 單位</measures>\n            </elementValue>\n          </time>\n          <time>\n            <startTime>2020-03-01T00:00:00+08:00</startTime>\n            <endTime>2020-03-01T03:00:00+08:00</endTime>\n            <elementValue>\n              <value>晴</value>\n              <measures>自定義 Wx 文字</measures>\n            </elementValue>\n            <elementValue>\n              <value>01</value>\n              <measures>自定義 Wx 單位</measures>\n            </elementValue>\n          </time>\n          <time>\n            <startTime>2020-03-01T03:00:00+08:00</startTime>\n            <endTime>2020-03-01T06:00:00+08:00</endTime>\n            <elementValue>\n              <value>晴</value>\n              <measures>自定義 Wx 文字</measures>\n            </elementValue>\n            <elementValue>\n              <value>01</value>\n              <measures>自定義 Wx 單位</measures>\n            </elementValue>\n          </time>\n          <time>\n            <startTime>2020-03-01T06:00:00+08:00</startTime>\n            <endTime>2020-03-01T09:00:00+08:00</endTime>\n            <elementValue>\n              <value>晴</value>\n              <measures>自定義 Wx 文字</measures>\n            </elementValue>\n            <elementValue>\n              <value>01</value>\n              <measures>自定義 Wx 單位</measures>\n            </elementValue>\n          </time>\n          <time>\n            <startTime>2020-03-01T09:00:00+08:00</startTime>\n            <endTime>2020-03-01T12:00:00+08:00</endTime>\n            <elementValue>\n              <value>短暫陣雨</value>\n              <measures>自定義 Wx 文字</measures>\n            </elementValue>\n            <elementValue>\n              <value>08</value>\n              <measures>自定義 Wx 單位</measures>\n            </elementValue>\n          </time>\n          <time>\n            <startTime>2020-03-01T12:00:00+08:00</startTime>\n            <endTime>2020-03-01T15:00:00+08:00</endTime>\n            <elementValue>\n              <value>短暫陣雨</value>\n              <measures>自定義 Wx 文字</measures>\n            </elementValue>\n            <elementValue>\n              <value>08</value>\n              <measures>自定義 Wx 單位</measures>\n            </elementValue>\n          </time>\n          <time>\n            <startTime>2020-03-01T15:00:00+08:00</startTime>\n            <endTime>2020-03-01T18:00:00+08:00</endTime>\n            <elementValue>\n              <value>短暫陣雨</value>\n              <measures>自定義 Wx 文字</measures>\n            </elementValue>\n            <elementValue>\n              <value>08</value>\n              <measures>自定義 Wx 單位</measures>\n            </elementValue>\n          </time>\n          <time>\n            <startTime>2020-03-01T18:00:00+08:00</startTime>\n            <endTime>2020-03-01T21:00:00+08:00</endTime>\n            <elementValue>\n              <value>晴</value>\n              <measures>自定義 Wx 文字</measures>\n            </elementValue>\n            <elementValue>\n              <value>01</value>\n              <measures>自定義 Wx 單位</measures>\n            </elementValue>\n          </time>\n          <time>\n            <startTime>2020-03-01T21:00:00+08:00</startTime>\n            <endTime>2020-03-02T00:00:00+08:00</endTime>\n            <elementValue>\n              <value>晴</value>\n              <measures>自定義 Wx 文字</measures>\n            </elementValue>\n            <elementValue>\n              <value>01</value>\n              <measures>自定義 Wx 單位</measures>\n            </elementValue>\n          </time>\n          <time>\n            <startTime>2020-03-02T00:00:00+08:00</startTime>\n            <endTime>2020-03-02T03:00:00+08:00</endTime>\n            <elementValue>\n              <value>晴</value>\n              <measures>自定義 Wx 文字</measures>\n            </elementValue>\n            <elementValue>\n              <value>01</value>\n              <measures>自定義 Wx 單位</measures>\n            </elementValue>\n          </time>\n          <time>\n            <startTime>2020-03-02T03:00:00+08:00</startTime>\n            <endTime>2020-03-02T06:00:00+08:00</endTime>\n            <elementValue>\n              <value>晴</value>\n              <measures>自定義 Wx 文字</measures>\n            </elementValue>\n            <elementValue>\n              <value>01</value>\n              <measures>自定義 Wx 單位</measures>\n            </elementValue>\n          </time>\n          <time>\n            <startTime>2020-03-02T06:00:00+08:00</startTime>\n            <endTime>2020-03-02T09:00:00+08:00</endTime>\n            <elementValue>\n              <value>晴</value>\n              <measures>自定義 Wx 文字</measures>\n            </elementValue>\n            <elementValue>\n              <value>01</value>\n              <measures>自定義 Wx 單位</measures>\n            </elementValue>\n          </time>\n          <time>\n            <startTime>2020-03-02T09:00:00+08:00</startTime>\n            <endTime>2020-03-02T12:00:00+08:00</endTime>\n            <elementValue>\n              <value>晴</value>\n              <measures>自定義 Wx 文字</measures>\n            </elementValue>\n            <elementValue>\n              <value>01</value>\n              <measures>自定義 Wx 單位</measures>\n            </elementValue>\n          </time>\n          <time>\n            <startTime>2020-03-02T12:00:00+08:00</startTime>\n            <endTime>2020-03-02T15:00:00+08:00</endTime>\n            <elementValue>\n              <value>多雲</value>\n              <measures>自定義 Wx 文字</measures>\n            </elementValue>\n            <elementValue>\n              <value>04</value>\n              <measures>自定義 Wx 單位</measures>\n            </elementValue>\n          </time>\n          <time>\n            <startTime>2020-03-02T15:00:00+08:00</startTime>\n            <endTime>2020-03-02T18:00:00+08:00</endTime>\n            <elementValue>\n              <value>多雲</value>\n              <measures>自定義 Wx 文字</measures>\n            </elementValue>\n            <elementValue>\n              <value>04</value>\n              <measures>自定義 Wx 單位</measures>\n            </elementValue>\n          </time>\n          <time>\n            <startTime>2020-03-02T18:00:00+08:00</startTime>\n            <endTime>2020-03-02T21:00:00+08:00</endTime>\n            <elementValue>\n              <value>多雲</value>\n              <measures>自定義 Wx 文字</measures>\n            </elementValue>\n            <elementValue>\n              <value>04</value>\n              <measures>自定義 Wx 單位</measures>\n            </elementValue>\n          </time>\n          <time>\n            <startTime>2020-03-02T21:00:00+08:00</startTime>\n            <endTime>2020-03-03T00:00:00+08:00</endTime>\n            <elementValue>\n              <value>多雲</value>\n              <measures>自定義 Wx 文字</measures>\n            </elementValue>\n            <elementValue>\n              <value>04</value>\n              <measures>自定義 Wx 單位</measures>\n            </elementValue>\n          </time>\n          <time>\n            <startTime>2020-03-03T00:00:00+08:00</startTime>\n            <endTime>2020-03-03T03:00:00+08:00</endTime>\n            <elementValue>\n              <value>多雲</value>\n              <measures>自定義 Wx 文字</measures>\n            </elementValue>\n            <elementValue>\n              <value>04</value>\n              <measures>自定義 Wx 單位</measures>\n            </elementValue>\n          </time>\n          <time>\n            <startTime>2020-03-03T03:00:00+08:00</startTime>\n            <endTime>2020-03-03T06:00:00+08:00</endTime>\n            <elementValue>\n              <value>晴</value>\n              <measures>自定義 Wx 文字</measures>\n            </elementValue>\n            <elementValue>\n              <value>01</value>\n              <measures>自定義 Wx 單位</measures>\n            </elementValue>\n          </time>\n          <time>\n            <startTime>2020-03-03T06:00:00+08:00</startTime>\n            <endTime>2020-03-03T09:00:00+08:00</endTime>\n            <elementValue>\n              <value>多雲</value>\n              <measures>自定義 Wx 文字</measures>\n            </elementValue>\n            <elementValue>\n              <value>04</value>\n              <measures>自定義 Wx 單位</measures>\n            </elementValue>\n          </time>\n          <time>\n            <startTime>2020-03-03T09:00:00+08:00</startTime>\n            <endTime>2020-03-03T12:00:00+08:00</endTime>\n            <elementValue>\n              <value>晴</value>\n              <measures>自定義 Wx 文字</measures>\n            </elementValue>\n            <elementValue>\n              <value>01</value>\n              <measures>自定義 Wx 單位</measures>\n            </elementValue>\n          </time>\n        </weatherElement>\n        <weatherElement>\n          <elementName>WeatherDescription</elementName>\n          <description>天氣預報綜合描述</description>\n          <time>\n            <startTime>2020-02-29T12:00:00+08:00</startTime>\n            <endTime>2020-02-29T15:00:00+08:00</endTime>\n            <elementValue>\n              <value>多雲。降雨機率 60%。溫度攝氏25度。舒適。西南風 平均風速&lt;= 1級(每秒0公尺)。相對濕度64%。</value>\n              <measures>NA</measures>\n            </elementValue>\n          </time>\n          <time>\n            <startTime>2020-02-29T15:00:00+08:00</startTime>\n            <endTime>2020-02-29T18:00:00+08:00</endTime>\n            <elementValue>\n              <value>短暫陣雨。降雨機率 60%。溫度攝氏24度。舒適。西北風 平均風速&lt;= 1級(每秒0公尺)。相對濕度80%。</value>\n              <measures>NA</measures>\n            </elementValue>\n          </time>\n          <time>\n            <startTime>2020-02-29T18:00:00+08:00</startTime>\n            <endTime>2020-02-29T21:00:00+08:00</endTime>\n            <elementValue>\n              <value>晴。降雨機率 10%。溫度攝氏19度。稍有寒意。偏東風 平均風速&lt;= 1級(每秒0公尺)。相對濕度79%。</value>\n              <measures>NA</measures>\n            </elementValue>\n          </time>\n          <time>\n            <startTime>2020-02-29T21:00:00+08:00</startTime>\n            <endTime>2020-03-01T00:00:00+08:00</endTime>\n            <elementValue>\n              <value>晴。降雨機率 10%。溫度攝氏16度。稍有寒意。偏東風 平均風速&lt;= 1級(每秒0公尺)。相對濕度82%。</value>\n              <measures>NA</measures>\n            </elementValue>\n          </time>\n          <time>\n            <startTime>2020-03-01T00:00:00+08:00</startTime>\n            <endTime>2020-03-01T03:00:00+08:00</endTime>\n            <elementValue>\n              <value>晴。降雨機率 10%。溫度攝氏16度。稍有寒意。偏東風 平均風速&lt;= 1級(每秒0公尺)。相對濕度87%。</value>\n              <measures>NA</measures>\n            </elementValue>\n          </time>\n          <time>\n            <startTime>2020-03-01T03:00:00+08:00</startTime>\n            <endTime>2020-03-01T06:00:00+08:00</endTime>\n            <elementValue>\n              <value>晴。降雨機率 10%。溫度攝氏15度。稍有寒意。偏東風 平均風速&lt;= 1級(每秒0公尺)。相對濕度84%。</value>\n              <measures>NA</measures>\n            </elementValue>\n          </time>\n          <time>\n            <startTime>2020-03-01T06:00:00+08:00</startTime>\n            <endTime>2020-03-01T09:00:00+08:00</endTime>\n            <elementValue>\n              <value>晴。降雨機率 30%。溫度攝氏15度。稍有寒意。偏北風 平均風速&lt;= 1級(每秒1公尺)。相對濕度86%。</value>\n              <measures>NA</measures>\n            </elementValue>\n          </time>\n          <time>\n            <startTime>2020-03-01T09:00:00+08:00</startTime>\n            <endTime>2020-03-01T12:00:00+08:00</endTime>\n            <elementValue>\n              <value>短暫陣雨。降雨機率 30%。溫度攝氏21度。舒適。偏西風 平均風速&lt;= 1級(每秒2公尺)。相對濕度80%。</value>\n              <measures>NA</measures>\n            </elementValue>\n          </time>\n          <time>\n            <startTime>2020-03-01T12:00:00+08:00</startTime>\n            <endTime>2020-03-01T15:00:00+08:00</endTime>\n            <elementValue>\n              <value>短暫陣雨。降雨機率 40%。溫度攝氏26度。舒適。西北風 平均風速&lt;= 1級(每秒0公尺)。相對濕度80%。</value>\n              <measures>NA</measures>\n            </elementValue>\n          </time>\n          <time>\n            <startTime>2020-03-01T15:00:00+08:00</startTime>\n            <endTime>2020-03-01T18:00:00+08:00</endTime>\n            <elementValue>\n              <value>短暫陣雨。降雨機率 40%。溫度攝氏24度。舒適。西北風 平均風速&lt;= 1級(每秒0公尺)。相對濕度80%。</value>\n              <measures>NA</measures>\n            </elementValue>\n          </time>\n          <time>\n            <startTime>2020-03-01T18:00:00+08:00</startTime>\n            <endTime>2020-03-01T21:00:00+08:00</endTime>\n            <elementValue>\n              <value>晴。降雨機率 0%。溫度攝氏19度。稍有寒意。偏東風 平均風速&lt;= 1級(每秒0公尺)。相對濕度56%。</value>\n              <measures>NA</measures>\n            </elementValue>\n          </time>\n          <time>\n            <startTime>2020-03-01T21:00:00+08:00</startTime>\n            <endTime>2020-03-02T00:00:00+08:00</endTime>\n            <elementValue>\n              <value>晴。降雨機率 0%。溫度攝氏16度。稍有寒意。偏東風 平均風速&lt;= 1級(每秒0公尺)。相對濕度77%。</value>\n              <measures>NA</measures>\n            </elementValue>\n          </time>\n          <time>\n            <startTime>2020-03-02T00:00:00+08:00</startTime>\n            <endTime>2020-03-02T03:00:00+08:00</endTime>\n            <elementValue>\n              <value>晴。降雨機率 0%。溫度攝氏16度。稍有寒意。偏東風 平均風速&lt;= 1級(每秒0公尺)。相對濕度83%。</value>\n              <measures>NA</measures>\n            </elementValue>\n          </time>\n          <time>\n            <startTime>2020-03-02T03:00:00+08:00</startTime>\n            <endTime>2020-03-02T06:00:00+08:00</endTime>\n            <elementValue>\n              <value>晴。降雨機率 0%。溫度攝氏15度。稍有寒意。偏東風 平均風速&lt;= 1級(每秒1公尺)。相對濕度76%。</value>\n              <measures>NA</measures>\n            </elementValue>\n          </time>\n          <time>\n            <startTime>2020-03-02T06:00:00+08:00</startTime>\n            <endTime>2020-03-02T09:00:00+08:00</endTime>\n            <elementValue>\n              <value>晴。降雨機率 20%。溫度攝氏15度。稍有寒意。西南風 平均風速&lt;= 1級(每秒1公尺)。相對濕度75%。</value>\n              <measures>NA</measures>\n            </elementValue>\n          </time>\n          <time>\n            <startTime>2020-03-02T09:00:00+08:00</startTime>\n            <endTime>2020-03-02T12:00:00+08:00</endTime>\n            <elementValue>\n              <value>晴。降雨機率 20%。溫度攝氏20度。舒適。偏西風 平均風速&lt;= 1級(每秒2公尺)。相對濕度53%。</value>\n              <measures>NA</measures>\n            </elementValue>\n          </time>\n          <time>\n            <startTime>2020-03-02T12:00:00+08:00</startTime>\n            <endTime>2020-03-02T15:00:00+08:00</endTime>\n            <elementValue>\n              <value>多雲。降雨機率 20%。溫度攝氏25度。舒適。偏西風 平均風速&lt;= 1級(每秒1公尺)。相對濕度29%。</value>\n              <measures>NA</measures>\n            </elementValue>\n          </time>\n          <time>\n            <startTime>2020-03-02T15:00:00+08:00</startTime>\n            <endTime>2020-03-02T18:00:00+08:00</endTime>\n            <elementValue>\n              <value>多雲。降雨機率 20%。溫度攝氏23度。舒適。偏西風 平均風速&lt;= 1級(每秒0公尺)。相對濕度51%。</value>\n              <measures>NA</measures>\n            </elementValue>\n          </time>\n          <time>\n            <startTime>2020-03-02T18:00:00+08:00</startTime>\n            <endTime>2020-03-02T21:00:00+08:00</endTime>\n            <elementValue>\n              <value>多雲。降雨機率 10%。溫度攝氏19度。稍有寒意。偏南風 平均風速&lt;= 1級(每秒1公尺)。相對濕度64%。</value>\n              <measures>NA</measures>\n            </elementValue>\n          </time>\n          <time>\n            <startTime>2020-03-02T21:00:00+08:00</startTime>\n            <endTime>2020-03-03T00:00:00+08:00</endTime>\n            <elementValue>\n              <value>多雲。降雨機率 10%。溫度攝氏16度。稍有寒意。東南風 平均風速&lt;= 1級(每秒0公尺)。相對濕度86%。</value>\n              <measures>NA</measures>\n            </elementValue>\n          </time>\n          <time>\n            <startTime>2020-03-03T00:00:00+08:00</startTime>\n            <endTime>2020-03-03T03:00:00+08:00</endTime>\n            <elementValue>\n              <value>多雲。降雨機率 0%。溫度攝氏16度。稍有寒意。偏東風 平均風速&lt;= 1級(每秒0公尺)。相對濕度94%。</value>\n              <measures>NA</measures>\n            </elementValue>\n          </time>\n          <time>\n            <startTime>2020-03-03T03:00:00+08:00</startTime>\n            <endTime>2020-03-03T06:00:00+08:00</endTime>\n            <elementValue>\n              <value>晴。降雨機率 0%。溫度攝氏15度。稍有寒意。東南風 平均風速&lt;= 1級(每秒0公尺)。相對濕度90%。</value>\n              <measures>NA</measures>\n            </elementValue>\n          </time>\n          <time>\n            <startTime>2020-03-03T06:00:00+08:00</startTime>\n            <endTime>2020-03-03T09:00:00+08:00</endTime>\n            <elementValue>\n              <value>多雲。降雨機率 10%。溫度攝氏15度。稍有寒意。偏南風 平均風速&lt;= 1級(每秒0公尺)。相對濕度79%。</value>\n              <measures>NA</measures>\n            </elementValue>\n          </time>\n          <time>\n            <startTime>2020-03-03T09:00:00+08:00</startTime>\n            <endTime>2020-03-03T12:00:00+08:00</endTime>\n            <elementValue>\n              <value>晴。降雨機率 10%。溫度攝氏20度。舒適。西南風 平均風速&lt;= 1級(每秒1公尺)。相對濕度59%。</value>\n              <measures>NA</measures>\n            </elementValue>\n          </time>\n        </weatherElement>\n      </location>\n    </locations>\n  </dataset>\n</cwbopendata>\n\n"
    }
   ],
   "source": [
    "# 讀檔案\n",
    "fh = open(\"./data/64_72hr_CH.xml\", \"r\",encoding=\"utf-8\")\n",
    "xml = fh.read()\n",
    "fh.close()\n",
    "\n",
    "print(xml)"
   ]
  },
  {
   "cell_type": "markdown",
   "metadata": {},
   "source": [
    "## xmltodict 解析檔案內容\n"
   ]
  },
  {
   "cell_type": "code",
   "execution_count": 4,
   "metadata": {},
   "outputs": [
    {
     "name": "stdout",
     "output_type": "stream",
     "text": "')])])]), OrderedDict([('dataTime', '2020-03-02T21:00:00+08:00'), ('elementValue', [OrderedDict([('value', '1'), ('measures', '公尺/秒')]), OrderedDict([('value', '<= 1'), ('measures', '蒲福風級')])])]), OrderedDict([('dataTime', '2020-03-03T00:00:00+08:00'), ('elementValue', [OrderedDict([('value', '1'), ('measures', '公尺/秒')]), OrderedDict([('value', '<= 1'), ('measures', '蒲福風級')])])]), OrderedDict([('dataTime', '2020-03-03T03:00:00+08:00'), ('elementValue', [OrderedDict([('value', '1'), ('measures', '公尺/秒')]), OrderedDict([('value', '<= 1'), ('measures', '蒲福風級')])])]), OrderedDict([('dataTime', '2020-03-03T06:00:00+08:00'), ('elementValue', [OrderedDict([('value', '1'), ('measures', '公尺/秒')]), OrderedDict([('value', '<= 1'), ('measures', '蒲福風級')])])]), OrderedDict([('dataTime', '2020-03-03T09:00:00+08:00'), ('elementValue', [OrderedDict([('value', '1'), ('measures', '公尺/秒')]), OrderedDict([('value', '<= 1'), ('measures', '蒲福風級')])])])])]), OrderedDict([('elementName', 'CI'), ('description', '舒適度指數'), ('time', [OrderedDict([('dataTime', '2020-02-29T12:00:00+08:00'), ('elementValue', [OrderedDict([('value', '23'), ('measures', 'NA')]), OrderedDict([('value', '舒適'), ('measures', '自定義 CI 文字')])])]), OrderedDict([('dataTime', '2020-02-29T15:00:00+08:00'), ('elementValue', [OrderedDict([('value', '23'), ('measures', 'NA')]), OrderedDict([('value', '舒適'), ('measures', '自定義 CI 文字')])])]), OrderedDict([('dataTime', '2020-02-29T18:00:00+08:00'), ('elementValue', [OrderedDict([('value', '18'), ('measures', 'NA')]), OrderedDict([('value', '稍有寒意'), ('measures', '自定義 CI 文字')])])]), OrderedDict([('dataTime', '2020-02-29T21:00:00+08:00'), ('elementValue', [OrderedDict([('value', '16'), ('measures', 'NA')]), OrderedDict([('value', '稍有寒意'), ('measures', '自定義 CI 文字')])])]), OrderedDict([('dataTime', '2020-03-01T00:00:00+08:00'), ('elementValue', [OrderedDict([('value', '16'), ('measures', 'NA')]), OrderedDict([('value', '稍有寒意'), ('measures', '自定義 CI 文字')])])]), OrderedDict([('dataTime', '2020-03-01T03:00:00+08:00'), ('elementValue', [OrderedDict([('value', '15'), ('measures', 'NA')]), OrderedDict([('value', '稍有寒意'), ('measures', '自定義 CI 文字')])])]), OrderedDict([('dataTime', '2020-03-01T06:00:00+08:00'), ('elementValue', [OrderedDict([('value', '15'), ('measures', 'NA')]), OrderedDict([('value', '稍有寒意'), ('measures', '自定義 CI 文字')])])]), OrderedDict([('dataTime', '2020-03-01T09:00:00+08:00'), ('elementValue', [OrderedDict([('value', '19'), ('measures', 'NA')]), OrderedDict([('value', '舒適'), ('measures', '自定義 CI 文字')])])]), OrderedDict([('dataTime', '2020-03-01T12:00:00+08:00'), ('elementValue', [OrderedDict([('value', '20'), ('measures', 'NA')]), OrderedDict([('value', '舒適'), ('measures', '自定義 CI 文字')])])]), OrderedDict([('dataTime', '2020-03-01T15:00:00+08:00'), ('elementValue', [OrderedDict([('value', '20'), ('measures', 'NA')]), OrderedDict([('value', '舒適'), ('measures', '自定義 CI 文字')])])]), OrderedDict([('dataTime', '2020-03-01T18:00:00+08:00'), ('elementValue', [OrderedDict([('value', '18'), ('measures', 'NA')]), OrderedDict([('value', '稍有寒意'), ('measures', '自定義 CI 文字')])])]), OrderedDict([('dataTime', '2020-03-01T21:00:00+08:00'), ('elementValue', [OrderedDict([('value', '16'), ('measures', 'NA')]), OrderedDict([('value', '稍有寒意'), ('measures', '自定義 CI 文字')])])]), OrderedDict([('dataTime', '2020-03-02T00:00:00+08:00'), ('elementValue', [OrderedDict([('value', '16'), ('measures', 'NA')]), OrderedDict([('value', '稍有寒意'), ('measures', '自定義 CI 文字')])])]), OrderedDict([('dataTime', '2020-03-02T03:00:00+08:00'), ('elementValue', [OrderedDict([('value', '15'), ('measures', 'NA')]), OrderedDict([('value', '稍有寒意'), ('measures', '自定義 CI 文字')])])]), OrderedDict([('dataTime', '2020-03-02T06:00:00+08:00'), ('elementValue', [OrderedDict([('value', '14'), ('measures', 'NA')]), OrderedDict([('value', '稍有寒意'), ('measures', '自定義 CI 文字')])])]), OrderedDict([('dataTime', '2020-03-02T09:00:00+08:00'), ('elementValue', [OrderedDict([('value', '18'), ('measures', 'NA')]), OrderedDict([('value', '舒適'), ('measures', '自定義 CI 文字')])])]), OrderedDict([('dataTime', '2020-03-02T12:00:00+08:00'), ('elementValue', [OrderedDict([('value', '21'), ('measures', 'NA')]), OrderedDict([('value', '舒適'), ('measures', '自定義 CI 文字')])])]), OrderedDict([('dataTime', '2020-03-02T15:00:00+08:00'), ('elementValue', [OrderedDict([('value', '21'), ('measures', 'NA')]), OrderedDict([('value', '舒適'), ('measures', '自定義 CI 文字')])])]), OrderedDict([('dataTime', '2020-03-02T18:00:00+08:00'), ('elementValue', [OrderedDict([('value', '18'), ('measures', 'NA')]), OrderedDict([('value', '稍有寒意'), ('measures', '自定義 CI 文字')])])]), OrderedDict([('dataTime', '2020-03-02T21:00:00+08:00'), ('elementValue', [OrderedDict([('value', '16'), ('measures', 'NA')]), OrderedDict([('value', '稍有寒意'), ('measures', '自定義 CI 文字')])])]), OrderedDict([('dataTime', '2020-03-03T00:00:00+08:00'), ('elementValue', [OrderedDict([('value', '16'), ('measures', 'NA')]), OrderedDict([('value', '稍有寒意'), ('measures', '自定義 CI 文字')])])]), OrderedDict([('dataTime', '2020-03-03T03:00:00+08:00'), ('elementValue', [OrderedDict([('value', '15'), ('measures', 'NA')]), OrderedDict([('value', '稍有寒意'), ('measures', '自定義 CI 文字')])])]), OrderedDict([('dataTime', '2020-03-03T06:00:00+08:00'), ('elementValue', [OrderedDict([('value', '15'), ('measures', 'NA')]), OrderedDict([('value', '稍有寒意'), ('measures', '自定義 CI 文字')])])]), OrderedDict([('dataTime', '2020-03-03T09:00:00+08:00'), ('elementValue', [OrderedDict([('value', '19'), ('measures', 'NA')]), OrderedDict([('value', '舒適'), ('measures', '自定義 CI 文字')])])])])]), OrderedDict([('elementName', 'AT'), ('description', '體感溫度'), ('time', [OrderedDict([('dataTime', '2020-02-29T12:00:00+08:00'), ('elementValue', OrderedDict([('value', '26'), ('measures', '攝氏度')]))]), OrderedDict([('dataTime', '2020-02-29T15:00:00+08:00'), ('elementValue', OrderedDict([('value', '27'), ('measures', '攝氏度')]))]), OrderedDict([('dataTime', '2020-02-29T18:00:00+08:00'), ('elementValue', OrderedDict([('value', '20'), ('measures', '攝氏度')]))]), OrderedDict([('dataTime', '2020-02-29T21:00:00+08:00'), ('elementValue', OrderedDict([('value', '17'), ('measures', '攝氏度')]))]), OrderedDict([('dataTime', '2020-03-01T00:00:00+08:00'), ('elementValue', OrderedDict([('value', '17'), ('measures', '攝氏度')]))]), OrderedDict([('dataTime', '2020-03-01T03:00:00+08:00'), ('elementValue', OrderedDict([('value', '16'), ('measures', '攝氏度')]))]), OrderedDict([('dataTime', '2020-03-01T06:00:00+08:00'), ('elementValue', OrderedDict([('value', '15'), ('measures', '攝氏度')]))]), OrderedDict([('dataTime', '2020-03-01T09:00:00+08:00'), ('elementValue', OrderedDict([('value', '22'), ('measures', '攝氏度')]))]), OrderedDict([('dataTime', '2020-03-01T12:00:00+08:00'), ('elementValue', OrderedDict([('value', '29'), ('measures', '攝氏度')]))]), OrderedDict([('dataTime', '2020-03-01T15:00:00+08:00'), ('elementValue', OrderedDict([('value', '26'), ('measures', '攝氏度')]))]), OrderedDict([('dataTime', '2020-03-01T18:00:00+08:00'), ('elementValue', OrderedDict([('value', '19'), ('measures', '攝氏度')]))]), OrderedDict([('dataTime', '2020-03-01T21:00:00+08:00'), ('elementValue', OrderedDict([('value', '17'), ('measures', '攝氏度')]))]), OrderedDict([('dataTime', '2020-03-02T00:00:00+08:00'), ('elementValue', OrderedDict([('value', '17'), ('measures', '攝氏度')]))]), OrderedDict([('dataTime', '2020-03-02T03:00:00+08:00'), ('elementValue', OrderedDict([('value', '16'), ('measures', '攝氏度')]))]), OrderedDict([('dataTime', '2020-03-02T06:00:00+08:00'), ('elementValue', OrderedDict([('value', '14'), ('measures', '攝氏度')]))]), OrderedDict([('dataTime', '2020-03-02T09:00:00+08:00'), ('elementValue', OrderedDict([('value', '20'), ('measures', '攝氏度')]))]), OrderedDict([('dataTime', '2020-03-02T12:00:00+08:00'), ('elementValue', OrderedDict([('value', '24'), ('measures', '攝氏度')]))]), OrderedDict([('dataTime', '2020-03-02T15:00:00+08:00'), ('elementValue', OrderedDict([('value', '24'), ('measures', '攝氏度')]))]), OrderedDict([('dataTime', '2020-03-02T18:00:00+08:00'), ('elementValue', OrderedDict([('value', '19'), ('measures', '攝氏度')]))]), OrderedDict([('dataTime', '2020-03-02T21:00:00+08:00'), ('elementValue', OrderedDict([('value', '17'), ('measures', '攝氏度')]))]), OrderedDict([('dataTime', '2020-03-03T00:00:00+08:00'), ('elementValue', OrderedDict([('value', '17'), ('measures', '攝氏度')]))]), OrderedDict([('dataTime', '2020-03-03T03:00:00+08:00'), ('elementValue', OrderedDict([('value', '16'), ('measures', '攝氏度')]))]), OrderedDict([('dataTime', '2020-03-03T06:00:00+08:00'), ('elementValue', OrderedDict([('value', '15'), ('measures', '攝氏度')]))]), OrderedDict([('dataTime', '2020-03-03T09:00:00+08:00'), ('elementValue', OrderedDict([('value', '21'), ('measures', '攝氏度')]))])])]), OrderedDict([('elementName', 'Wx'), ('description', '天氣現象'), ('time', [OrderedDict([('startTime', '2020-02-29T12:00:00+08:00'), ('endTime', '2020-02-29T15:00:00+08:00'), ('elementValue', [OrderedDict([('value', '多雲'), ('measures', '自定義 Wx 文字')]), OrderedDict([('value', '04'), ('measures', '自定義 Wx 單位')])])]), OrderedDict([('startTime', '2020-02-29T15:00:00+08:00'), ('endTime', '2020-02-29T18:00:00+08:00'), ('elementValue', [OrderedDict([('value', '短暫陣雨'), ('measures', '自定義 Wx 文字')]), OrderedDict([('value', '08'), ('measures', '自定義 Wx 單位')])])]), OrderedDict([('startTime', '2020-02-29T18:00:00+08:00'), ('endTime', '2020-02-29T21:00:00+08:00'), ('elementValue', [OrderedDict([('value', '晴'), ('measures', '自定義 Wx 文字')]), OrderedDict([('value', '01'), ('measures', '自定義 Wx 單位')])])]), OrderedDict([('startTime', '2020-02-29T21:00:00+08:00'), ('endTime', '2020-03-01T00:00:00+08:00'), ('elementValue', [OrderedDict([('value', '晴'), ('measures', '自定義 Wx 文字')]), OrderedDict([('value', '01'), ('measures', '自定義 Wx 單位')])])]), OrderedDict([('startTime', '2020-03-01T00:00:00+08:00'), ('endTime', '2020-03-01T03:00:00+08:00'), ('elementValue', [OrderedDict([('value', '晴'), ('measures', '自定義 Wx 文字')]), OrderedDict([('value', '01'), ('measures', '自定義 Wx 單位')])])]), OrderedDict([('startTime', '2020-03-01T03:00:00+08:00'), ('endTime', '2020-03-01T06:00:00+08:00'), ('elementValue', [OrderedDict([('value', '晴'), ('measures', '自定義 Wx 文字')]), OrderedDict([('value', '01'), ('measures', '自定義 Wx 單位')])])]), OrderedDict([('startTime', '2020-03-01T06:00:00+08:00'), ('endTime', '2020-03-01T09:00:00+08:00'), ('elementValue', [OrderedDict([('value', '晴'), ('measures', '自定義 Wx 文字')]), OrderedDict([('value', '01'), ('measures', '自定義 Wx 單位')])])]), OrderedDict([('startTime', '2020-03-01T09:00:00+08:00'), ('endTime', '2020-03-01T12:00:00+08:00'), ('elementValue', [OrderedDict([('value', '短暫陣雨'), ('measures', '自定義 Wx 文字')]), OrderedDict([('value', '08'), ('measures', '自定義 Wx 單位')])])]), OrderedDict([('startTime', '2020-03-01T12:00:00+08:00'), ('endTime', '2020-03-01T15:00:00+08:00'), ('elementValue', [OrderedDict([('value', '短暫陣雨'), ('measures', '自定義 Wx 文字')]), OrderedDict([('value', '08'), ('measures', '自定義 Wx 單位')])])]), OrderedDict([('startTime', '2020-03-01T15:00:00+08:00'), ('endTime', '2020-03-01T18:00:00+08:00'), ('elementValue', [OrderedDict([('value', '短暫陣雨'), ('measures', '自定義 Wx 文字')]), OrderedDict([('value', '08'), ('measures', '自定義 Wx 單位')])])]), OrderedDict([('startTime', '2020-03-01T18:00:00+08:00'), ('endTime', '2020-03-01T21:00:00+08:00'), ('elementValue', [OrderedDict([('value', '晴'), ('measures', '自定義 Wx 文字')]), OrderedDict([('value', '01'), ('measures', '自定義 Wx 單位')])])]), OrderedDict([('startTime', '2020-03-01T21:00:00+08:00'), ('endTime', '2020-03-02T00:00:00+08:00'), ('elementValue', [OrderedDict([('value', '晴'), ('measures', '自定義 Wx 文字')]), OrderedDict([('value', '01'), ('measures', '自定義 Wx 單位')])])]), OrderedDict([('startTime', '2020-03-02T00:00:00+08:00'), ('endTime', '2020-03-02T03:00:00+08:00'), ('elementValue', [OrderedDict([('value', '晴'), ('measures', '自定義 Wx 文字')]), OrderedDict([('value', '01'), ('measures', '自定義 Wx 單位')])])]), OrderedDict([('startTime', '2020-03-02T03:00:00+08:00'), ('endTime', '2020-03-02T06:00:00+08:00'), ('elementValue', [OrderedDict([('value', '晴'), ('measures', '自定義 Wx 文字')]), OrderedDict([('value', '01'), ('measures', '自定義 Wx 單位')])])]), OrderedDict([('startTime', '2020-03-02T06:00:00+08:00'), ('endTime', '2020-03-02T09:00:00+08:00'), ('elementValue', [OrderedDict([('value', '晴'), ('measures', '自定義 Wx 文字')]), OrderedDict([('value', '01'), ('measures', '自定義 Wx 單位')])])]), OrderedDict([('startTime', '2020-03-02T09:00:00+08:00'), ('endTime', '2020-03-02T12:00:00+08:00'), ('elementValue', [OrderedDict([('value', '晴'), ('measures', '自定義 Wx 文字')]), OrderedDict([('value', '01'), ('measures', '自定義 Wx 單位')])])]), OrderedDict([('startTime', '2020-03-02T12:00:00+08:00'), ('endTime', '2020-03-02T15:00:00+08:00'), ('elementValue', [OrderedDict([('value', '多雲'), ('measures', '自定義 Wx 文字')]), OrderedDict([('value', '04'), ('measures', '自定義 Wx 單位')])])]), OrderedDict([('startTime', '2020-03-02T15:00:00+08:00'), ('endTime', '2020-03-02T18:00:00+08:00'), ('elementValue', [OrderedDict([('value', '多雲'), ('measures', '自定義 Wx 文字')]), OrderedDict([('value', '04'), ('measures', '自定義 Wx 單位')])])]), OrderedDict([('startTime', '2020-03-02T18:00:00+08:00'), ('endTime', '2020-03-02T21:00:00+08:00'), ('elementValue', [OrderedDict([('value', '多雲'), ('measures', '自定義 Wx 文字')]), OrderedDict([('value', '04'), ('measures', '自定義 Wx 單位')])])]), OrderedDict([('startTime', '2020-03-02T21:00:00+08:00'), ('endTime', '2020-03-03T00:00:00+08:00'), ('elementValue', [OrderedDict([('value', '多雲'), ('measures', '自定義 Wx 文字')]), OrderedDict([('value', '04'), ('measures', '自定義 Wx 單位')])])]), OrderedDict([('startTime', '2020-03-03T00:00:00+08:00'), ('endTime', '2020-03-03T03:00:00+08:00'), ('elementValue', [OrderedDict([('value', '多雲'), ('measures', '自定義 Wx 文字')]), OrderedDict([('value', '04'), ('measures', '自定義 Wx 單位')])])]), OrderedDict([('startTime', '2020-03-03T03:00:00+08:00'), ('endTime', '2020-03-03T06:00:00+08:00'), ('elementValue', [OrderedDict([('value', '晴'), ('measures', '自定義 Wx 文字')]), OrderedDict([('value', '01'), ('measures', '自定義 Wx 單位')])])]), OrderedDict([('startTime', '2020-03-03T06:00:00+08:00'), ('endTime', '2020-03-03T09:00:00+08:00'), ('elementValue', [OrderedDict([('value', '多雲'), ('measures', '自定義 Wx 文字')]), OrderedDict([('value', '04'), ('measures', '自定義 Wx 單位')])])]), OrderedDict([('startTime', '2020-03-03T09:00:00+08:00'), ('endTime', '2020-03-03T12:00:00+08:00'), ('elementValue', [OrderedDict([('value', '晴'), ('measures', '自定義 Wx 文字')]), OrderedDict([('value', '01'), ('measures', '自定義 Wx 單位')])])])])]), OrderedDict([('elementName', 'WeatherDescription'), ('description', '天氣預報綜合描述'), ('time', [OrderedDict([('startTime', '2020-02-29T12:00:00+08:00'), ('endTime', '2020-02-29T15:00:00+08:00'), ('elementValue', OrderedDict([('value', '多雲。降雨機率 60%。溫度攝氏25度。舒適。西南風 平均風速<= 1級(每秒0公尺)。相對濕度64%。'), ('measures', 'NA')]))]), OrderedDict([('startTime', '2020-02-29T15:00:00+08:00'), ('endTime', '2020-02-29T18:00:00+08:00'), ('elementValue', OrderedDict([('value', '短暫陣雨。降雨機率 60%。溫度攝氏24度。舒適。西北風 平均風速<= 1級(每秒0公尺)。相對濕度80%。'), ('measures', 'NA')]))]), OrderedDict([('startTime', '2020-02-29T18:00:00+08:00'), ('endTime', '2020-02-29T21:00:00+08:00'), ('elementValue', OrderedDict([('value', '晴。降雨機率 10%。溫度攝氏19度。稍有寒意。偏東風 平均風速<= 1級(每秒0公尺)。相對濕度79%。'), ('measures', 'NA')]))]), OrderedDict([('startTime', '2020-02-29T21:00:00+08:00'), ('endTime', '2020-03-01T00:00:00+08:00'), ('elementValue', OrderedDict([('value', '晴。降雨機率 10%。溫度攝氏16度。稍有寒意。偏東風 平均風速<= 1級(每秒0公尺)。相對濕度82%。'), ('measures', 'NA')]))]), OrderedDict([('startTime', '2020-03-01T00:00:00+08:00'), ('endTime', '2020-03-01T03:00:00+08:00'), ('elementValue', OrderedDict([('value', '晴。降雨機率 10%。溫度攝氏16度。稍有寒意。偏東風 平均風速<= 1級(每秒0公尺)。相對濕度87%。'), ('measures', 'NA')]))]), OrderedDict([('startTime', '2020-03-01T03:00:00+08:00'), ('endTime', '2020-03-01T06:00:00+08:00'), ('elementValue', OrderedDict([('value', '晴。降雨機率 10%。溫度攝氏15度。稍有寒意。偏東風 平均風速<= 1級(每秒0公尺)。相對濕度84%。'), ('measures', 'NA')]))]), OrderedDict([('startTime', '2020-03-01T06:00:00+08:00'), ('endTime', '2020-03-01T09:00:00+08:00'), ('elementValue', OrderedDict([('value', '晴。降雨機率 30%。溫度攝氏15度。稍有寒意。偏北風 平均風速<= 1級(每秒1公尺)。相對濕度86%。'), ('measures', 'NA')]))]), OrderedDict([('startTime', '2020-03-01T09:00:00+08:00'), ('endTime', '2020-03-01T12:00:00+08:00'), ('elementValue', OrderedDict([('value', '短暫陣雨。降雨機率 30%。溫度攝氏21度。舒適。偏西風 平均風速<= 1級(每秒2公尺)。相對濕度80%。'), ('measures', 'NA')]))]), OrderedDict([('startTime', '2020-03-01T12:00:00+08:00'), ('endTime', '2020-03-01T15:00:00+08:00'), ('elementValue', OrderedDict([('value', '短暫陣雨。降雨機率 40%。溫度攝氏26度。舒適。西北風 平均風速<= 1級(每秒0公尺)。相對濕度80%。'), ('measures', 'NA')]))]), OrderedDict([('startTime', '2020-03-01T15:00:00+08:00'), ('endTime', '2020-03-01T18:00:00+08:00'), ('elementValue', OrderedDict([('value', '短暫陣雨。降雨機率 40%。溫度攝氏24度。舒適。西北風 平均風速<= 1級(每秒0公尺)。相對濕度80%。'), ('measures', 'NA')]))]), OrderedDict([('startTime', '2020-03-01T18:00:00+08:00'), ('endTime', '2020-03-01T21:00:00+08:00'), ('elementValue', OrderedDict([('value', '晴。降雨機率 0%。溫度攝氏19度。稍有寒意。偏東風 平均風速<= 1級(每秒0公尺)。相對濕度56%。'), ('measures', 'NA')]))]), OrderedDict([('startTime', '2020-03-01T21:00:00+08:00'), ('endTime', '2020-03-02T00:00:00+08:00'), ('elementValue', OrderedDict([('value', '晴。降雨機率 0%。溫度攝氏16度。稍有寒意。偏東風 平均風速<= 1級(每秒0公尺)。相對濕度77%。'), ('measures', 'NA')]))]), OrderedDict([('startTime', '2020-03-02T00:00:00+08:00'), ('endTime', '2020-03-02T03:00:00+08:00'), ('elementValue', OrderedDict([('value', '晴。降雨機率 0%。溫度攝氏16度。稍有寒意。偏東風 平均風速<= 1級(每秒0公尺)。相對濕度83%。'), ('measures', 'NA')]))]), OrderedDict([('startTime', '2020-03-02T03:00:00+08:00'), ('endTime', '2020-03-02T06:00:00+08:00'), ('elementValue', OrderedDict([('value', '晴。降雨機率 0%。溫度攝氏15度。稍有寒意。偏東風 平均風速<= 1級(每秒1公尺)。相對濕度76%。'), ('measures', 'NA')]))]), OrderedDict([('startTime', '2020-03-02T06:00:00+08:00'), ('endTime', '2020-03-02T09:00:00+08:00'), ('elementValue', OrderedDict([('value', '晴。降雨機率 20%。溫度攝氏15度。稍有寒意。西南風 平均風速<= 1級(每秒1公尺)。相對濕度75%。'), ('measures', 'NA')]))]), OrderedDict([('startTime', '2020-03-02T09:00:00+08:00'), ('endTime', '2020-03-02T12:00:00+08:00'), ('elementValue', OrderedDict([('value', '晴。降雨機率 20%。溫度攝氏20度。舒適。偏西風 平均風速<= 1級(每秒2公尺)。相對濕度53%。'), ('measures', 'NA')]))]), OrderedDict([('startTime', '2020-03-02T12:00:00+08:00'), ('endTime', '2020-03-02T15:00:00+08:00'), ('elementValue', OrderedDict([('value', '多雲。降雨機率 20%。溫度攝氏25度。舒適。偏西風 平均風速<= 1級(每秒1公尺)。相對濕度29%。'), ('measures', 'NA')]))]), OrderedDict([('startTime', '2020-03-02T15:00:00+08:00'), ('endTime', '2020-03-02T18:00:00+08:00'), ('elementValue', OrderedDict([('value', '多雲。降雨機率 20%。溫度攝氏23度。舒適。偏西風 平均風速<= 1級(每秒0公尺)。相對濕度51%。'), ('measures', 'NA')]))]), OrderedDict([('startTime', '2020-03-02T18:00:00+08:00'), ('endTime', '2020-03-02T21:00:00+08:00'), ('elementValue', OrderedDict([('value', '多雲。降雨機率 10%。溫度攝氏19度。稍有寒意。偏南風 平均風速<= 1級(每秒1公尺)。相對濕度64%。'), ('measures', 'NA')]))]), OrderedDict([('startTime', '2020-03-02T21:00:00+08:00'), ('endTime', '2020-03-03T00:00:00+08:00'), ('elementValue', OrderedDict([('value', '多雲。降雨機率 10%。溫度攝氏16度。稍有寒意。東南風 平均風速<= 1級(每秒0公尺)。相對濕度86%。'), ('measures', 'NA')]))]), OrderedDict([('startTime', '2020-03-03T00:00:00+08:00'), ('endTime', '2020-03-03T03:00:00+08:00'), ('elementValue', OrderedDict([('value', '多雲。降雨機率 0%。溫度攝氏16度。稍有寒意。偏東風 平均風速<= 1級(每秒0公尺)。相對濕度94%。'), ('measures', 'NA')]))]), OrderedDict([('startTime', '2020-03-03T03:00:00+08:00'), ('endTime', '2020-03-03T06:00:00+08:00'), ('elementValue', OrderedDict([('value', '晴。降雨機率 0%。溫度攝氏15度。稍有寒意。東南風 平均風速<= 1級(每秒0公尺)。相對濕度90%。'), ('measures', 'NA')]))]), OrderedDict([('startTime', '2020-03-03T06:00:00+08:00'), ('endTime', '2020-03-03T09:00:00+08:00'), ('elementValue', OrderedDict([('value', '多雲。降雨機率 10%。溫度攝氏15度。稍有寒意。偏南風 平均風速<= 1級(每秒0公尺)。相對濕度79%。'), ('measures', 'NA')]))]), OrderedDict([('startTime', '2020-03-03T09:00:00+08:00'), ('endTime', '2020-03-03T12:00:00+08:00'), ('elementValue', OrderedDict([('value', '晴。降雨機率 10%。溫度攝氏20度。舒適。西南風 平均風速<= 1級(每秒1公尺)。相對濕度59%。'), ('measures', 'NA')]))])])])])])])]))]))])}\n"
    }
   ],
   "source": [
    "# 解析檔案內容\n",
    "import xmltodict\n",
    "d = dict(xmltodict.parse(xml))\n",
    "print(d)"
   ]
  },
  {
   "cell_type": "code",
   "execution_count": 20,
   "metadata": {},
   "outputs": [
    {
     "name": "stdout",
     "output_type": "stream",
     "text": "臺灣各縣市鄉鎮未來3天(72小時)逐3小時天氣預報\n"
    }
   ],
   "source": [
    "# 取出 datasetDescription\n",
    "datasetDescription = d['cwbopendata']['dataset']['datasetInfo']['datasetDescription']\n",
    "print(datasetDescription)\n"
   ]
  },
  {
   "cell_type": "markdown",
   "metadata": {},
   "source": [
    "## 作業目標\n",
    "\n",
    "* 比較一下範例檔案中的「File I/O」與「xmltodict」讀出來的內容有什麼差異\n",
    "\n",
    "* 根據範例檔案的結果：\n",
    "    1. 請問高雄市有多少地區有溫度資料？\n",
    "    2. 請取出每一個地區所記錄的第一個時間點跟溫度\n",
    "    3. 請取出第一個地區所記錄的每一個時間點跟溫度"
   ]
  },
  {
   "cell_type": "code",
   "execution_count": null,
   "metadata": {},
   "outputs": [],
   "source": []
  }
 ],
 "metadata": {
  "kernelspec": {
   "display_name": "Python 3",
   "language": "python",
   "name": "python3"
  },
  "language_info": {
   "codemirror_mode": {
    "name": "ipython",
    "version": 3
   },
   "file_extension": ".py",
   "mimetype": "text/x-python",
   "name": "python",
   "nbconvert_exporter": "python",
   "pygments_lexer": "ipython3",
   "version": "3.7.3-final"
  }
 },
 "nbformat": 4,
 "nbformat_minor": 2
}