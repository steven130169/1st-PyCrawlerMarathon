{
 "cells": [
  {
   "cell_type": "markdown",
   "metadata": {},
   "source": [
    "# API 資料串接 - 以 知乎 API 實作範例\n",
    "\n",
    "\n",
    "\n",
    "* 了解知乎 API 使用方式與回傳內容\n",
    "* 撰寫程式存取 API 且添加標頭\n",
    "\n",
    "\n"
   ]
  },
  {
   "cell_type": "markdown",
   "metadata": {},
   "source": [
    "## 作業目標\n",
    "\n",
    "* 根據範例提供的 API ，完成以下問題：\n",
    "\n",
    "    1. 取出知乎問題發問時間\n",
    "    2. 取出第一筆與最後一筆回答的時間\n"
   ]
  },
  {
   "cell_type": "markdown",
   "metadata": {},
   "source": [
    "### 1. 取出知乎問題發問時間"
   ]
  },
  {
   "cell_type": "code",
   "execution_count": 2,
   "metadata": {},
   "outputs": [
    {
     "data": {
      "text/plain": "'2017-02-06 22:10:29'"
     },
     "execution_count": 2,
     "metadata": {},
     "output_type": "execute_result"
    }
   ],
   "source": [
    "# 1. 取出知乎問題發問時間\n",
    "import requests\n",
    "import json\n",
    "import time\n",
    "headers = {\n",
    "    # 'Accept':'text/html,application/xhtml+xm…ml;q=0.9,image/webp,*/*;q=0.8',\n",
    "    # 'Accept-Language':\t'zh-TW,en;q=0.9,ja;q=0.8,id;q=0…DE;q=0.3,th;q=0.2,ko-KR;q=0.1',\n",
    "    # 'Cache-Control'\t:'max-age=0',\n",
    "    # 'Connection':'keep-alive',\t\n",
    "    # 'DNT':\t'1',\n",
    "    # 'Host':\t'www.zhihu.com',\n",
    "    # 'Upgrade-Insecure-Requests':'1',\n",
    "    'User-Agent':'Mozilla/5.0 Firefox/73.0'\n",
    "}\n",
    "r = requests.get('https://www.zhihu.com/api/v4/questions/55493026/answers',headers = headers)\n",
    "response = json.loads(r.text)\n",
    "question_time = response['data'][0]['question']['created']\n",
    "timeArray = time.localtime(question_time)\n",
    "otherStyleTime = time.strftime(\"%Y-%m-%d %H:%M:%S\", timeArray)\n",
    "otherStyleTime\n"
   ]
  },
  {
   "cell_type": "markdown",
   "metadata": {},
   "source": [
    "### 2. 取出第一筆與最後一筆回答的時間"
   ]
  },
  {
   "cell_type": "code",
   "execution_count": 4,
   "metadata": {},
   "outputs": [
    {
     "name": "stdout",
     "output_type": "stream",
     "text": "2019-05-14 17:00:12\n2019-02-27 11:41:25\n"
    }
   ],
   "source": [
    "# 2. 取出第一筆與最後一筆回答的時間\n",
    "answer_time_list = []\n",
    "for answer_data in response['data']:\n",
    "    answer_time = answer_data['created_time']\n",
    "    answer_time_list.append(answer_time)\n",
    "first_answer_time = answer_time_list[0]\n",
    "timeArray = time.localtime(first_answer_time)\n",
    "first_answer_time_format = time.strftime(\"%Y-%m-%d %H:%M:%S\", timeArray)\n",
    "last_answer_time = answer_time_list[len(response['data'])-1]\n",
    "timeArray = time.localtime(last_answer_time)\n",
    "last_answer_time_format = time.strftime(\"%Y-%m-%d %H:%M:%S\", timeArray)\n",
    "print(first_answer_time_format)\n",
    "print(last_answer_time_format)\n"
   ]
  },
  {
   "cell_type": "code",
   "execution_count": null,
   "metadata": {},
   "outputs": [],
   "source": []
  },
  {
   "cell_type": "code",
   "execution_count": null,
   "metadata": {},
   "outputs": [],
   "source": []
  },
  {
   "cell_type": "code",
   "execution_count": null,
   "metadata": {},
   "outputs": [],
   "source": []
  }
 ],
 "metadata": {
  "kernelspec": {
   "display_name": "Python 3",
   "language": "python",
   "name": "python3"
  },
  "language_info": {
   "codemirror_mode": {
    "name": "ipython",
    "version": 3
   },
   "file_extension": ".py",
   "mimetype": "text/x-python",
   "name": "python",
   "nbconvert_exporter": "python",
   "pygments_lexer": "ipython3",
   "version": "3.7.3-final"
  }
 },
 "nbformat": 4,
 "nbformat_minor": 2
}