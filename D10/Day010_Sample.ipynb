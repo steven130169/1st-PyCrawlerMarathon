{
 "cells": [
  {
   "cell_type": "markdown",
   "metadata": {},
   "source": [
    "# 其他工具：Grab、PyQuery\n",
    "\n",
    "\n",
    "* 利用 Grab 套件的存取 HTML 資源\n",
    "* 利用 PyQuery 套件的解析 HTML 格式\n"
   ]
  },
  {
   "cell_type": "markdown",
   "metadata": {},
   "source": [
    "## Grab"
   ]
  },
  {
   "cell_type": "code",
   "execution_count": 3,
   "metadata": {},
   "outputs": [
    {
     "data": {
      "text/plain": "ive{outline:none;-webkit-box-shadow:0 4px 5px rgba(0,0,0,.16);box-shadow:0 4px 5px rgba(0,0,0,.16)}.gb_0.gb_kd.gb_ld{-webkit-border-radius:4px;border-radius:4px;cursor:pointer;height:16px;color:#5f6368;font-family:Google Sans,Roboto,RobotoDraft,Helvetica,Arial,sans-serif;font-weight:500;letter-spacing:.25px;line-height:16px;padding:8px 6px;text-transform:none;-webkit-font-smoothing:antialiased}.gb_0.gb_kd:hover{background-color:#f8f9fa}.gb_0.gb_kd:focus,.gb_0.gb_kd:hover:focus{background-color:#f1f3f4;border-color:transparent}.gb_0.gb_kd:active{background-color:#f1f3f4;-webkit-box-shadow:0 1px 2px 0 rgba(60,64,67,0.3),0 1px 3px 1px rgba(60,64,67,0.15);box-shadow:0 1px 2px 0 rgba(60,64,67,0.3),0 1px 3px 1px rgba(60,64,67,0.15)}.gb_dd{color:#5f6368;font-family:Roboto,RobotoDraft,Helvetica,Arial,sans-serif;font-size:14px;letter-spacing:.25px;line-height:20px;margin:0;margin-bottom:5px}.gb_md{text-align:right;font-size:14px;padding-bottom:0;white-space:nowrap}.gb_md .gb_nd{margin-left:12px;text-transform:none}a.gb_4.gb_nd:hover{background-color:#2b7de9;border-color:transparent;-webkit-box-shadow:0 1px 2px 0 rgba(66,133,244,0.3),0 1px 3px 1px rgba(66,133,244,0.15);box-shadow:0 1px 2px 0 rgba(66,133,244,0.3),0 1px 3px 1px rgba(66,133,244,0.15)}a.gb_4.gb_nd:focus,a.gb_4.gb_nd:hover:focus{background-color:#5094ed;border-color:transparent;-webkit-box-shadow:0 1px 2px 0 rgba(66,133,244,0.3),0 1px 3px 1px rgba(66,133,244,0.15);box-shadow:0 1px 2px 0 rgba(66,133,244,0.3),0 1px 3px 1px rgba(66,133,244,0.15)}a.gb_4.gb_nd:active{background-color:#63a0ef;-webkit-box-shadow:0 1px 2px 0 rgba(66,133,244,0.3),0 1px 3px 1px rgba(66,133,244,0.15);box-shadow:0 1px 2px 0 rgba(66,133,244,0.3),0 1px 3px 1px rgba(66,133,244,0.15)}.gb_md .gb_nd.gb_od{padding-left:6px;padding-right:14px}.gb_md .gb_ld.gb_nd img{background-color:inherit;-webkit-border-radius:initial;border-radius:initial;height:18px;margin:0 8px 0 4px;vertical-align:text-top;width:18px}.gb_pd .gb_id .gb_qd .gb_ld{border:2px solid transparent}.gb_pd .gb_id .gb_qd .gb_ld:focus:after,.gb_pd .gb_id .gb_qd .gb_ld:hover:after{background-color:transparent}.gb_jd{background-color:#404040;color:#fff;padding:16px;position:absolute;top:36px;min-width:328px;max-width:650px;right:0;-webkit-border-radius:2px;border-radius:2px;-webkit-box-shadow:4px 4px 12px rgba(0,0,0,0.4);box-shadow:4px 4px 12px rgba(0,0,0,0.4)}.gb_jd a,.gb_jd a:visited{color:#5e97f6;text-decoration:none}.gb_rd{text-transform:uppercase}.gb_sd{padding-left:50px}.gb_td{color:#3c4043;font-family:Google Sans,Roboto,RobotoDraft,Helvetica,Arial,sans-serif;font-size:16px;font-weight:500;letter-spacing:.1px;line-height:20px;margin:0;margin-bottom:12px}.gb_dd a.gb_vd{text-decoration:none;color:#5e97f6}.gb_dd a.gb_vd:visited{color:#5e97f6}.gb_dd a.gb_vd:hover,.gb_dd a.gb_vd:active{text-decoration:underline}.gb_wd{position:absolute;background:transparent;top:-999px;z-index:-1;visibility:hidden;margin-top:1px;margin-left:1px}#gb .gb_fd{margin:0}.gb_fd .gb_Wc{background:#4d90fe;border:2px solid transparent;-webkit-box-sizing:border-box;box-sizing:border-box;font-weight:500;margin-top:21px;min-width:70px;text-align:center;-webkit-font-smoothing:antialiased}.gb_fd a.gb_4{background:#1a73e8;-webkit-border-radius:4px;border-radius:4px;color:#ffffff;font-family:Google Sans,Roboto,RobotoDraft,Helvetica,Arial,sans-serif;font-size:14px;font-weight:500;letter-spacing:.25px;line-height:16px;padding:8px 22px;-webkit-font-smoothing:antialiased}.gb_fd a.gb_4.gb_xd{background:#d93025}.gb_fd a.gb_4.gb_xd:hover{background-color:#cc3127}.gb_fd a.gb_4.gb_xd:focus,.gb_fd a.gb_4.gb_xd:focus:hover{background-color:#b3332c}.gb_fd a.gb_4.gb_xd:active,.gb_fd a.gb_4.gb_xd:focus:active{background-color:#a6342e}.gb_fd:not(.gb_pd) a.gb_4{float:right}#gb .gb_fd a.gb_Wc.gb_Wc{color:#ffffff;cursor:pointer}.gb_fd .gb_Wc:hover{background:#357ae8;border-color:#2f5bb7}.gb_yd,.gb_qd{display:table-cell}.gb_yd{vertical-align:middle}.gb_yd img{height:48px;padding-left:4px;padding-right:20px;width:48px}.gb_qd{padding-left:13px;width:100%}.gb_fd .gb_qd{padding-top:4px;min-width:326px;padding-left:0;width:326px}.gb_fd.gb_zd .gb_qd{min-width:254px;width:254px}.gb_fd:not(.gb_pd) .gb_qd{padding-top:32px}.gb_Ad{display:block;display:inline-block;padding:1em 0 0 0;position:relative;width:100%}.gb_Bd{color:#ff0000;font-style:italic;margin:0;padding-left:46px}.gb_Ad .gb_Cd{float:right;margin:-20px 0;width:-webkit-calc(100% - 46px);width:calc(100% - 46px)}.gb_Dd svg{fill:grey}.gb_Dd.gb_Ed svg{fill:#4285f4}.gb_Ad .gb_Cd label:after{background-color:#4285f4}.gb_Dd{display:inline;float:right;margin-right:22px;position:relative;top:2px}.gb_Nf{margin-bottom:32px;font-size:small}.gb_Nf .gb_Of{margin-right:5px}.gb_Nf .gb_Pf{color:red}.gb_3c{display:none}.gb_3c.gb_na{display:block}.gb_4c{background-color:#fff;-webkit-box-shadow:0 1px 0 rgba(0,0,0,0.08);box-shadow:0 1px 0 rgba(0,0,0,0.08);color:#000;position:relative;z-index:986}.gb_5c{height:40px;padding:16px 24px;white-space:nowrap}.gb_6c{position:fixed;bottom:16px;padding:16px;right:16px;white-space:normal;width:328px;-webkit-transition:width .2s,bottom .2s,right .2s;transition:width .2s,bottom .2s,right .2s;-webkit-border-radius:2px;border-radius:2px;-webkit-box-shadow:0 5px 5px -3px rgba(0,0,0,0.2),0 8px 10px 1px rgba(0,0,0,0.14),0 3px 14px 2px rgba(0,0,0,0.12);box-shadow:0 5px 5px -3px rgba(0,0,0,0.2),0 8px 10px 1px rgba(0,0,0,0.14),0 3px 14px 2px rgba(0,0,0,0.12)}@media (max-width:400px){.gb_4c.gb_6c{max-width:368px;width:auto;bottom:0;right:0}}.gb_4c .gb_Wc{border:0;font-weight:500;font-size:14px;line-height:36px;min-width:32px;padding:0 16px;vertical-align:middle}.gb_4c .gb_Wc:before{content:\\'\\';height:6px;left:0;position:absolute;top:-6px;width:100%}.gb_4c .gb_Wc:after{bottom:-6px;content:\\'\\';height:6px;left:0;position:absolute;width:100%}.gb_4c .gb_Wc+.gb_Wc{margin-left:8px}.gb_7c{height:48px;padding:4px;margin:-8px 0 0 -8px}.gb_6c .gb_7c{float:left;margin:-4px}.gb_8c{font-family:Roboto,RobotoDraft,Helvetica,Arial,sans-serif;overflow:hidden;vertical-align:top}.gb_5c .gb_8c{display:inline-block;padding-left:8px;width:640px}.gb_6c .gb_8c{display:block;margin-left:56px;padding-bottom:16px}.gb_9c{background-color:inherit}.gb_5c .gb_9c{display:inline-block;position:absolute;top:18px;right:24px}.gb_6c .gb_9c{text-align:right;padding-right:24px;padding-top:6px}.gb_9c .gb_ad{height:1.5em;margin:-.25em 10px -.25em 0;vertical-align:text-top;width:1.5em}.gb_bd{line-height:20px;font-size:16px;font-weight:700;color:rgba(0,0,0,.87)}.gb_6c .gb_bd{color:rgba(0,0,0,.87);font-size:16px;line-height:20px;padding-top:8px}.gb_5c .gb_bd,.gb_5c .gb_cd{width:640px}.gb_cd .gb_dd,.gb_cd{line-height:20px;font-size:13px;font-weight:400;color:rgba(0,0,0,.54)}.gb_6c .gb_cd .gb_dd{font-size:14px}.gb_6c .gb_cd{padding-top:12px}.gb_6c .gb_cd a{color:rgba(66,133,244,1)}.gb_Qb .gb_2a{border:0;border-left:1px solid rgba(0,0,0,.2);border-top:1px solid rgba(0,0,0,.2);height:14px;width:14px;-webkit-transform:rotate(45deg);transform:rotate(45deg)}.gb_Qb .gb_1a{border:0;border-left:1px solid rgba(0,0,0,.2);border-top:1px solid rgba(0,0,0,.2);height:14px;width:14px;-webkit-transform:rotate(45deg);transform:rotate(45deg);border-color:#fff;background:#fff}.gb_e .gb_pg::before{clip:rect(25px 235px 41px 219px);left:-197px;top:-3px}.gb_e .gb_pc.gb_qg{position:absolute}.gb_e .gb_qg::before{clip:rect(0 210px 16px 194px);left:-164px;top:22px}.gb_e .gb_Ra .gb_pg::before{left:-189px}@media (min-resolution:1.25dppx),(-webkit-min-device-pixel-ratio:1.25),(min-device-pixel-ratio:1.25){.gb_e .gb_pg::before{clip:rect(50px 470px 82px 438px)}.gb_e .gb_qg::before{clip:rect(0 420px 32px 388px)}}.gb_e .gb_pc,.gb_e .gbii,.gb_e .gbip{background-image:none;overflow:hidden;position:relative}.gb_e .gb_pc::before{content:url(\\'//ssl.gstatic.com/gb/images/i1_1967ca6a.png\\');position:absolute}@media (min-resolution:1.25dppx),(-webkit-min-device-pixel-ratio:1.25),(min-device-pixel-ratio:1.25){.gb_e .gb_pc::before{content:url(\\'//ssl.gstatic.com/gb/images/i2_2ec824b0.png\\');-webkit-transform:scale(.5);transform:scale(.5);-webkit-transform-origin:0 0;transform-origin:0 0}}.gb_Qb a:focus{outline:1px dotted #fff!important}sentinel{}</style><script nonce=\"CVVwnhfrTRW1eS1V+3NBOw==\">(function(){var m=[\\'AnvWOE\\',\\'[\\\\x22psy-ab\\\\x22,\\\\x22gws-wiz\\\\x22,\\\\x22\\\\x22,\\\\x22\\\\x22,null,1,0,0,11,\\\\x22zh-TW\\\\x22,\\\\x22pNmu3627RZHxWwgtCZ02lnn7A4A\\\\x22,\\\\x22\\\\x22,\\\\x22oVJbXo_mFtjywQP6tqfgDQ\\\\x22,0,\\\\x22zh-TW\\\\x22,null,null,null,0,null,null,3,5,null,null,0,-1,0,0,0,\\\\x22\\\\x22,0,0,\\\\x22\\\\x22,null,0,null,0,null,\\\\x22/complete/search\\\\x22]\\\\n\\',\\'AnvWOI\\',\\'[null,null,1,30000,null,null,null,2,null,null,3,null,null,null,null,null,1,null,null,null,null,null,null,[25.0609664,121.634816]\\\\n,null,null,null,null,0,null,null,null,null,null,null,null,0,\\\\x221583043233\\\\x22,null,null,null,null,null,1,null,null,[\\\\x2286400000\\\\x22,\\\\x22604800000\\\\x22,2.0]\\\\n,null,1]\\\\n\\',\\'AnvWOM\\',\\'[\\\\x22https://www.google.com.tw/domainless/read?igu\\\\\\\\u003d1\\\\x22,\\\\x22AFz9ztsHq_5b4BKVWlAyv0FYQvd0wfvbDg:1583043233402\\\\x22,3]\\\\n\\'];\\nvar a=m;window.W_jd=window.W_jd||{};for(var b=0;b<a.length;b+=2)window.W_jd[a[b]]=JSON.parse(a[b+1]);})();(function(){var s=\\'/images/nav_logo299.png\\';\\nvar h=this||self,l=function(){},aa=function(a){var b=typeof a;if(\"object\"==b)if(a){if(a instanceof Array)return\"array\";if(a instanceof Object)return b;var c=Object.prototype.toString.call(a);if(\"[object Window]\"==c)return\"object\";if(\"[object Array]\"==c||\"number\"==typeof a.length&&\"undefined\"!=typeof a.splice&&\"undefined\"!=typeof a.propertyIsEnumerable&&!a.propertyIsEnumerable(\"splice\"))return\"array\";if(\"[object Function]\"==c||\"undefined\"!=typeof a.call&&\"undefined\"!=typeof a.propertyIsEnumerable&&\\n!a.propertyIsEnumerable(\"call\"))return\"function\"}else return\"null\";else if(\"function\"==b&&\"undefined\"==typeof a.call)return\"object\";return b},m=function(a){var b=typeof a;return\"object\"==b&&null!=a||\"function\"==b},ba=function(a,b){function c(){}c.prototype=b.prototype;a.l=b.prototype;a.prototype=new c;a.prototype.constructor=a};var ca=Array.prototype.indexOf?function(a,b){return Array.prototype.indexOf.call(a,b,void 0)}:function(a,b){if(\"string\"===typeof a)return\"string\"!==typeof b||1!=b.length?-1:a.indexOf(b,0);for(var c=0;c<a.length;c++)if(c in a&&a[c]===b)return c;return-1};var n=String.prototype.trim?function(a){return a.trim()}:function(a){return/^[\\\\s\\\\xa0]*([\\\\s\\\\S]*?)[\\\\s\\\\xa0]*$/.exec(a)[1]},p=function(a,b){return a<b?-1:a>b?1:0};var q;a:{var r=h.navigator;if(r){var t=r.userAgent;if(t){q=t;break a}}q=\"\"};var u=function(a){u[\" \"](a);return a};u[\" \"]=l;var da=-1!=q.indexOf(\"Opera\"),v=-1!=q.indexOf(\"Trident\")||-1!=q.indexOf(\"MSIE\"),ea=-1!=q.indexOf(\"Edge\"),w=-1!=q.indexOf(\"Gecko\")&&!(-1!=q.toLowerCase().indexOf(\"webkit\")&&-1==q.indexOf(\"Edge\"))&&!(-1!=q.indexOf(\"Trident\")||-1!=q.indexOf(\"MSIE\"))&&-1==q.indexOf(\"Edge\"),fa=-1!=q.toLowerCase().indexOf(\"webkit\")&&-1==q.indexOf(\"Edge\"),x=function(){var a=h.document;return a?a.documentMode:void 0},y;a:{var z=\"\",A=function(){var a=q;if(w)return/rv:([^\\\\);]+)(\\\\)|;)/.exec(a);if(ea)return/Edge\\\\/([\\\\d\\\\.]+)/.exec(a);if(v)return/\\\\b(?:MSIE|rv)[:]([^\\\\);]+)(\\\\)|;)/.exec(a);if(fa)return/WebKit\\\\/(\\\\S+)/.exec(a);if(da)return/(?:Version)[ \\\\/]?(\\\\S+)/.exec(a)}();A&&(z=A?A[1]:\"\");if(v){var B=x();if(null!=B&&B>parseFloat(z)){y=String(B);break a}}y=z}var ha=y,C={},D;D=h.document&&v?x():void 0;var E;(E=!v)||(E=9<=Number(D));var F=E,G;if(G=v){var H;if(Object.prototype.hasOwnProperty.call(C,\"9\"))H=C[\"9\"];else{for(var I=0,J=n(String(ha)).split(\".\"),K=n(\"9\").split(\".\"),ka=Math.max(J.length,K.length),L=0;0==I&&L<ka;L++){var M=J[L]||\"\",N=K[L]||\"\";do{var O=/(\\\\d*)(\\\\D*)(.*)/.exec(M)||[\"\",\"\",\"\",\"\"],P=/(\\\\d*)(\\\\D*)(.*)/.exec(N)||[\"\",\"\",\"\",\"\"];if(0==O[0].length&&0==P[0].length)break;I=p(0==O[1].length?0:parseInt(O[1],10),0==P[1].length?0:parseInt(P[1],10))||p(0==O[2].length,0==P[2].length)||p(O[2],P[2]);M=O[3];N=P[3]}while(0==I)}H=C[\"9\"]=0<=\\nI}G=!H}var la=G,ma=function(){if(!h.addEventListener||!Object.defineProperty)return!1;var a=!1,b=Object.defineProperty({},\"passive\",{get:function(){a=!0}});try{h.addEventListener(\"test\",l,b),h.removeEventListener(\"test\",l,b)}catch(c){}return a}();var Q=function(a,b){this.type=a;this.a=this.target=b};Q.prototype.g=function(){};var R=function(a,b){Q.call(this,a?a.type:\"\");this.relatedTarget=this.a=this.target=null;this.button=this.screenY=this.screenX=this.clientY=this.clientX=0;this.key=\"\";this.metaKey=this.shiftKey=this.altKey=this.ctrlKey=!1;this.pointerId=0;this.pointerType=\"\";this.j=null;if(a){var c=this.type=a.type,d=a.changedTouches&&a.changedTouches.length?a.changedTouches[0]:null;this.target=a.target||a.srcElement;this.a=b;if(b=a.relatedTarget){if(w){a:{try{u(b.nodeName);var e=!0;break a}catch(f){}e=!1}e||(b=null)}}else\"mouseover\"==\\nc?b=a.fromElement:\"mouseout\"==c&&(b=a.toElement);this.relatedTarget=b;d?(this.clientX=void 0!==d.clientX?d.clientX:d.pageX,this.clientY=void 0!==d.clientY?d.clientY:d.pageY,this.screenX=d.screenX||0,this.screenY=d.screenY||0):(this.clientX=void 0!==a.clientX?a.clientX:a.pageX,this.clientY=void 0!==a.clientY?a.clientY:a.pageY,this.screenX=a.screenX||0,this.screenY=a.screenY||0);this.button=a.button;this.key=a.key||\"\";this.ctrlKey=a.ctrlKey;this.altKey=a.altKey;this.shiftKey=a.shiftKey;this.metaKey=\\na.metaKey;this.pointerId=a.pointerId||0;this.pointerType=\"string\"===typeof a.pointerType?a.pointerType:na[a.pointerType]||\"\";this.j=a;a.defaultPrevented&&this.g()}};ba(R,Q);var na={2:\"touch\",3:\"pen\",4:\"mouse\"};R.prototype.g=function(){R.l.g.call(this);var a=this.j;if(a.preventDefault)a.preventDefault();else if(a.returnValue=!1,la)try{if(a.ctrlKey||112<=a.keyCode&&123>=a.keyCode)a.keyCode=-1}catch(b){}};var S=\"closure_listenable_\"+(1E6*Math.random()|0),oa=0;var pa=function(a,b,c,d,e){this.listener=a;this.a=null;this.src=b;this.type=c;this.capture=!!d;this.g=e;this.key=++oa;this.h=this.i=!1},T=function(a){a.h=!0;a.listener=null;a.a=null;a.src=null;a.g=null};var U=function(a){this.src=a;this.a={};this.g=0};U.prototype.add=function(a,b,c,d,e){var f=a.toString();a=this.a[f];a||(a=this.a[f]=[],this.g++);var g;a:{for(g=0;g<a.length;++g){var k=a[g];if(!k.h&&k.listener==b&&k.capture==!!d&&k.g==e)break a}g=-1}-1<g?(b=a[g],c||(b.i=!1)):(b=new pa(b,this.src,f,!!d,e),b.i=c,a.push(b));return b};var V=\"closure_lm_\"+(1E6*Math.random()|0),W={},X=0,ra=function(a,b,c,d,e){if(d&&d.once)qa(a,b,c,d,e);else if(Array.isArray(b))for(var f=0;f<b.length;f++)ra(a,b[f],c,d,e);else c=sa(c),a&&a[S]?a.a(b,c,m(d)?!!d.capture:!!d,e):ta(a,b,c,!1,d,e)},ta=function(a,b,c,d,e,f){if(!b)throw Error(\"a\");var g=m(e)?!!e.capture:!!e,k=Y(a);k||(a[V]=k=new U(a));c=k.add(b,c,d,g,f);if(!c.a){d=ua();c.a=d;d.src=a;d.listener=c;if(a.addEventListener)ma||(e=g),void 0===e&&(e=!1),a.addEventListener(b.toString(),d,e);else if(a.attachEvent)a.attachEvent(va(b.toString()),d);else if(a.addListener&&a.removeListener)a.addListener(d);else throw Error(\"b\");X++}},ua=function(){var a=wa,b=F?function(c){return a.call(b.src,b.listener,c)}:function(c){c=a.call(b.src,b.listener,c);if(!c)return c};return b},qa=function(a,b,c,d,e){if(Array.isArray(b))for(var f=0;f<b.length;f++)qa(a,b[f],c,d,e);else c=sa(c),a&&a[S]?a.g(b,c,m(d)?!!d.capture:!!d,e):ta(a,b,c,!0,d,e)},va=function(a){return a in W?W[a]:W[a]=\"on\"+a},ya=function(a,b,c,d){var e=!0;if(a=Y(a))if(b=a.a[b.toString()])for(b=\\nb.concat(),a=0;a<b.length;a++){var f=b[a];f&&f.capture==c&&!f.h&&(f=xa(f,d),e=e&&!1!==f)}return e},xa=function(a,b){var c=a.listener,d=a.g||a.src;if(a.i&&\"number\"!==typeof a&&a&&!a.h){var e=a.src;if(e&&e[S])e.j(a);else{var f=a.type,g=a.a;e.removeEventListener?e.removeEventListener(f,g,a.capture):e.detachEvent?e.detachEvent(va(f),g):e.addListener&&e.removeListener&&e.removeListener(g);X--;if(f=Y(e)){g=a.type;var k;if(k=g in f.a){k=f.a[g];var ia=ca(k,a),ja;(ja=0<=ia)&&Array.prototype.splice.call(k,ia,1);k=ja}k&&(T(a),0==f.a[g].length&&(delete f.a[g],f.g--));0==f.g&&(f.src=null,e[V]=null)}else T(a)}}return c.call(d,b)},wa=function(a,b){if(a.h)return!0;if(!F){if(!b)a:{b=[\"window\",\"event\"];for(var c=h,d=0;d<b.length;d++)if(c=c[b[d]],null==c){b=null;break a}b=c}d=b;b=new R(d,this);c=!0;if(!(0>d.keyCode||void 0!=d.returnValue)){a:{var e=!1;if(0==d.keyCode)try{d.keyCode=-1;break a}catch(g){e=!0}if(e||void 0==d.returnValue)d.returnValue=!0}d=[];for(e=b.a;e;e=e.parentNode)d.push(e);a=a.type;for(e=\\nd.length-1;0<=e;e--){b.a=d[e];var f=ya(d[e],a,!0,b);c=c&&f}for(e=0;e<d.length;e++)b.a=d[e],f=ya(d[e],a,!1,b),c=c&&f}return c}return xa(a,new R(b,this))},Y=function(a){a=a[V];return a instanceof U?a:null},Z=\"__closure_events_fn_\"+(1E9*Math.random()>>>0),sa=function(a){if(\"function\"==aa(a))return a;a[Z]||(a[Z]=function(b){return a.handleEvent(b)});return a[Z]};ra(document,\"DOMContentLoaded\",function(){document.f&&(document.f.q.getAttribute(\"data-saf\")||document.f.q.focus());document.gbqf&&document.gbqf.q.focus();document.images&&((new Image).src=s)});})();</script></div><textarea class=\"csi\" name=\"csi\" style=\"display:none\"></textarea><script nonce=\"CVVwnhfrTRW1eS1V+3NBOw==\">(function(){\\nfunction h(a,b){if(!a)return 0;if(!b){if(\"none\"==a.style.display)return 0;if(document.defaultView&&document.defaultView.getComputedStyle){var c=document.defaultView.getComputedStyle(a);if(c&&(\"hidden\"==c.visibility||\"0px\"==c.height&&\"0px\"==c.width))return 0}}if(!a.getBoundingClientRect)return 1;var d=a.getBoundingClientRect();a=d.left+window.pageXOffset;c=d.top+window.pageYOffset;var e=d.width;d=d.height;var f=0;if(!b&&0>=d&&0>=e)return f;0>c+d?f=2:c>=(window.innerHeight||document.documentElement.clientHeight)&&\\n(f=4);if(0>a+e||a>=(window.innerWidth||document.documentElement.clientWidth))f|=8;return f||1};var k,l=[\"aft\",\"hct\",\"prt\",\"pprt\",\"sct\"];function m(a){return google.c.slp?a in google.c.p?google.c.p[a]:-1:(a=n.search.match(new RegExp(\"[?&]\"+a+\"=(\\\\\\\\d+)\")))?Number(a[1]):-1}function p(a){k.removeEventListener(\"click\",p);a.stopPropagation&&a.stopPropagation()}var n=location;var q=0,r=0,u=0,v=0,w=0,x,y;function z(a,b,c,d){var e=google.timers.load.t[a];e&&(c||d&&b&&b<e)||google.tick(\"load\",a,b)}function B(a,b){b=b||google.time();z(\"aft\",b,!1,!0);++w;C();D(a,b)}function D(a,b){a=b||google.time();z(\"iml\",a,!1,!0);++r;E()}function E(){y||r!=q||google.c.u(\"il\")}\\nfunction C(){if(!x&&w==u){var a=\"&ima=\"+u+\"&imad=\"+v;google.timers.load.e.imn&&(a+=\"&imn=\"+google.timers.load.e.imn);var b=google.timers.load,c=m(\"qsubts\");if(0<c){var d=m(\"fbts\");0<d&&(b.t.start=Math.max(c,d))}var e=b.t,f=e.start;d={wsrt:b.wsrt};for(var F=0,t;t=l[F++];){var A=e[t];A&&f&&(d[t]=A-f)}0<c&&(d.gsasrt=b.t.start-c);b=\"/gen_204?s=\"+google.sn+\"&t=aft&atyp=csi&ei=\"+google.kEI+\"&rt=\";c=\"\";for(var g in d)b+=c+g+\".\"+d[g],c=\",\";google.cshid&&(b+=\"&cshid=\"+google.cshid);(g=window.performance&&\\nwindow.performance.navigation)&&2==g.type&&(b+=\"&bb=1\");\"gsasrt\"in d&&(g=m(\"qsd\"),0<g&&(b+=\"&qsd=\"+g));google.kBL&&(b+=\"&bl=\"+google.kBL);a=b+(a||\"\");(k=document.getElementById(\"csi-ping\"))?(k.addEventListener(\"click\",p),k.setAttribute(\"ping\",a),k.click()):navigator.sendBeacon?navigator.sendBeacon(a,\"\"):google.log(\"\",\"\",a)}}var G=\"src bsrc url ll image img-url\".split(\" \");function H(a){var b=\"string\"!=typeof a.src||!a.src,c=!!a.getAttribute(\"data-bsrc\"),d=a.getAttribute(\"data-deferred\"),e;if(e=!d)a:{e=0;for(var f;f=G[e++];)if(a.getAttribute(\"data-\"+f)){e=!0;break a}e=!1}e&&a.setAttribute(\"data-lzy_\",1);b=(e=(b||a.complete)&&!d&&!c)&&!google.c.lhc&&Number(a.getAttribute(\"data-iml\"))||0;c=h(a,c);a.setAttribute(\"data-atf\",c);++q;e&&!b||a.hasAttribute(\"data-noaft\")?++r:(e=(c=1==c)?B:D,c&&(++u,d&&++v),b?e(void 0,b):google.rll(a,!0,e))};(function(){var a=google.time();if(google.timers&&google.timers.load.t){y=x=!0;google.c.b(\"il\");for(var b=document.getElementsByTagName(\"img\"),c=0,d=void 0;d=b[c++];)H(d);z(\"prt\",a);z(\"aft\",a,!0);z(\"iml\",a,!0);google.c.e(\"load\",\"imn\",String(q));x&&(x=!1,C());y=!1;E();google.c.glu&&google.c.glu();google.rll(window,!1,function(){z(\"ol\",void 0);google.c.u(\"pr\")})}})();}).call(this);google.drty&&google.drty();</script></body></html>'"
     },
     "execution_count": 3,
     "metadata": {},
     "output_type": "execute_result"
    }
   ],
   "source": [
    "from grab import Grab\n",
    "g = Grab()\n",
    "resp = g.go('https://google.com')\n",
    "resp.body"
   ]
  },
  {
   "cell_type": "markdown",
   "metadata": {},
   "source": [
    "## PyQuery"
   ]
  },
  {
   "cell_type": "code",
   "execution_count": 5,
   "metadata": {},
   "outputs": [
    {
     "name": "stdout",
     "output_type": "stream",
     "text": "<class 'pyquery.pyquery.PyQuery'> Google\n"
    }
   ],
   "source": [
    "from pyquery import PyQuery as pq\n",
    "doc = pq(resp.body)\n",
    "title = doc('title')\n",
    "print(type(title), title.text())"
   ]
  },
  {
   "cell_type": "markdown",
   "metadata": {},
   "source": [
    "## 作業目標\n",
    "\n",
    "將之前用 requests + beatifulsoup 實作的方式，改寫成 grab + pyquery，並且比較有哪些地方不同。\n",
    "\n",
    "\n",
    "\n"
   ]
  },
  {
   "cell_type": "code",
   "execution_count": null,
   "metadata": {},
   "outputs": [],
   "source": []
  },
  {
   "cell_type": "code",
   "execution_count": null,
   "metadata": {},
   "outputs": [],
   "source": []
  }
 ],
 "metadata": {
  "kernelspec": {
   "display_name": "Python 3",
   "language": "python",
   "name": "python3"
  },
  "language_info": {
   "codemirror_mode": {
    "name": "ipython",
    "version": 3
   },
   "file_extension": ".py",
   "mimetype": "text/x-python",
   "name": "python",
   "nbconvert_exporter": "python",
   "pygments_lexer": "ipython3",
   "version": "3.7.3-final"
  }
 },
 "nbformat": 4,
 "nbformat_minor": 2
}